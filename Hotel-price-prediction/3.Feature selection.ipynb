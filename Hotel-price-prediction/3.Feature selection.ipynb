{
 "cells": [
  {
   "cell_type": "code",
   "execution_count": 106,
   "id": "2b5dbcdb",
   "metadata": {
    "ExecuteTime": {
     "end_time": "2024-03-03T09:59:36.815329Z",
     "start_time": "2024-03-03T09:59:36.762559Z"
    }
   },
   "outputs": [],
   "source": [
    "import pandas as pd\n",
    "import numpy as np\n",
    "import matplotlib.pyplot as plt\n",
    "\n",
    "from sklearn.linear_model import Lasso\n",
    "from sklearn.feature_selection import SelectFromModel"
   ]
  },
  {
   "cell_type": "code",
   "execution_count": 107,
   "id": "3db92f00",
   "metadata": {
    "ExecuteTime": {
     "end_time": "2024-03-03T09:59:37.865762Z",
     "start_time": "2024-03-03T09:59:37.080275Z"
    }
   },
   "outputs": [
    {
     "data": {
      "text/plain": [
       "hotel                             0\n",
       "is_canceled                       0\n",
       "lead_time                         0\n",
       "meal                              0\n",
       "market_segment                    0\n",
       "distribution_channel              0\n",
       "is_repeated_guest                 0\n",
       "previous_cancellations            0\n",
       "previous_bookings_not_canceled    0\n",
       "reserved_room_type                0\n",
       "booking_changes                   0\n",
       "agent                             0\n",
       "days_in_waiting_list              0\n",
       "customer_type                     0\n",
       "adr                               0\n",
       "required_car_parking_spaces       0\n",
       "total_of_special_requests         0\n",
       "total_members                     0\n",
       "total_nights_stayed               0\n",
       "dtype: int64"
      ]
     },
     "execution_count": 107,
     "metadata": {},
     "output_type": "execute_result"
    }
   ],
   "source": [
    "dataset=pd.read_csv('hotelPriceCleaned.csv')\n",
    "dataset.isna().sum()"
   ]
  },
  {
   "cell_type": "code",
   "execution_count": 108,
   "id": "299d0925",
   "metadata": {
    "ExecuteTime": {
     "end_time": "2024-03-03T09:59:38.768257Z",
     "start_time": "2024-03-03T09:59:38.699651Z"
    }
   },
   "outputs": [
    {
     "data": {
      "text/html": [
       "<div>\n",
       "<style scoped>\n",
       "    .dataframe tbody tr th:only-of-type {\n",
       "        vertical-align: middle;\n",
       "    }\n",
       "\n",
       "    .dataframe tbody tr th {\n",
       "        vertical-align: top;\n",
       "    }\n",
       "\n",
       "    .dataframe thead th {\n",
       "        text-align: right;\n",
       "    }\n",
       "</style>\n",
       "<table border=\"1\" class=\"dataframe\">\n",
       "  <thead>\n",
       "    <tr style=\"text-align: right;\">\n",
       "      <th></th>\n",
       "      <th>hotel</th>\n",
       "      <th>is_canceled</th>\n",
       "      <th>lead_time</th>\n",
       "      <th>meal</th>\n",
       "      <th>market_segment</th>\n",
       "      <th>distribution_channel</th>\n",
       "      <th>is_repeated_guest</th>\n",
       "      <th>previous_cancellations</th>\n",
       "      <th>previous_bookings_not_canceled</th>\n",
       "      <th>reserved_room_type</th>\n",
       "      <th>booking_changes</th>\n",
       "      <th>agent</th>\n",
       "      <th>days_in_waiting_list</th>\n",
       "      <th>customer_type</th>\n",
       "      <th>adr</th>\n",
       "      <th>required_car_parking_spaces</th>\n",
       "      <th>total_of_special_requests</th>\n",
       "      <th>total_members</th>\n",
       "      <th>total_nights_stayed</th>\n",
       "    </tr>\n",
       "  </thead>\n",
       "  <tbody>\n",
       "    <tr>\n",
       "      <th>0</th>\n",
       "      <td>-1.437393</td>\n",
       "      <td>-0.640696</td>\n",
       "      <td>-0.939416</td>\n",
       "      <td>0.187305</td>\n",
       "      <td>1.168630</td>\n",
       "      <td>2.118765</td>\n",
       "      <td>-0.172577</td>\n",
       "      <td>-0.081677</td>\n",
       "      <td>-0.088724</td>\n",
       "      <td>-0.561389</td>\n",
       "      <td>-0.372516</td>\n",
       "      <td>-0.590609</td>\n",
       "      <td>-0.067037</td>\n",
       "      <td>0.392233</td>\n",
       "      <td>-0.931096</td>\n",
       "      <td>-0.302727</td>\n",
       "      <td>-0.881914</td>\n",
       "      <td>-1.588769</td>\n",
       "      <td>-1.023513</td>\n",
       "    </tr>\n",
       "    <tr>\n",
       "      <th>1</th>\n",
       "      <td>-1.437393</td>\n",
       "      <td>-0.640696</td>\n",
       "      <td>-0.858860</td>\n",
       "      <td>0.187305</td>\n",
       "      <td>-2.967412</td>\n",
       "      <td>-2.601195</td>\n",
       "      <td>-0.172577</td>\n",
       "      <td>-0.081677</td>\n",
       "      <td>-0.088724</td>\n",
       "      <td>-0.561389</td>\n",
       "      <td>-0.372516</td>\n",
       "      <td>2.162981</td>\n",
       "      <td>-0.067037</td>\n",
       "      <td>0.392233</td>\n",
       "      <td>-0.931096</td>\n",
       "      <td>-0.302727</td>\n",
       "      <td>-0.881914</td>\n",
       "      <td>-1.588769</td>\n",
       "      <td>-1.023513</td>\n",
       "    </tr>\n",
       "    <tr>\n",
       "      <th>2</th>\n",
       "      <td>-1.437393</td>\n",
       "      <td>-0.640696</td>\n",
       "      <td>-0.845434</td>\n",
       "      <td>0.187305</td>\n",
       "      <td>0.341421</td>\n",
       "      <td>-0.241215</td>\n",
       "      <td>-0.172577</td>\n",
       "      <td>-0.081677</td>\n",
       "      <td>-0.088724</td>\n",
       "      <td>-0.561389</td>\n",
       "      <td>-0.372516</td>\n",
       "      <td>1.555292</td>\n",
       "      <td>-0.067037</td>\n",
       "      <td>0.392233</td>\n",
       "      <td>-0.354134</td>\n",
       "      <td>-0.302727</td>\n",
       "      <td>0.311727</td>\n",
       "      <td>-0.093117</td>\n",
       "      <td>-0.643442</td>\n",
       "    </tr>\n",
       "    <tr>\n",
       "      <th>3</th>\n",
       "      <td>-1.437393</td>\n",
       "      <td>-0.640696</td>\n",
       "      <td>-1.033397</td>\n",
       "      <td>0.187305</td>\n",
       "      <td>1.168630</td>\n",
       "      <td>2.118765</td>\n",
       "      <td>-0.172577</td>\n",
       "      <td>-0.081677</td>\n",
       "      <td>-0.088724</td>\n",
       "      <td>1.326522</td>\n",
       "      <td>-0.372516</td>\n",
       "      <td>-0.590609</td>\n",
       "      <td>-0.067037</td>\n",
       "      <td>0.392233</td>\n",
       "      <td>-0.128367</td>\n",
       "      <td>-0.302727</td>\n",
       "      <td>-0.881914</td>\n",
       "      <td>-0.093117</td>\n",
       "      <td>-0.643442</td>\n",
       "    </tr>\n",
       "    <tr>\n",
       "      <th>4</th>\n",
       "      <td>-1.437393</td>\n",
       "      <td>-0.640696</td>\n",
       "      <td>-0.912564</td>\n",
       "      <td>2.779896</td>\n",
       "      <td>1.168630</td>\n",
       "      <td>2.118765</td>\n",
       "      <td>-0.172577</td>\n",
       "      <td>-0.081677</td>\n",
       "      <td>-0.088724</td>\n",
       "      <td>1.326522</td>\n",
       "      <td>-0.372516</td>\n",
       "      <td>2.153486</td>\n",
       "      <td>-0.067037</td>\n",
       "      <td>0.392233</td>\n",
       "      <td>-0.228708</td>\n",
       "      <td>-0.302727</td>\n",
       "      <td>0.311727</td>\n",
       "      <td>-0.093117</td>\n",
       "      <td>-0.643442</td>\n",
       "    </tr>\n",
       "  </tbody>\n",
       "</table>\n",
       "</div>"
      ],
      "text/plain": [
       "      hotel  is_canceled  lead_time      meal  market_segment  \\\n",
       "0 -1.437393    -0.640696  -0.939416  0.187305        1.168630   \n",
       "1 -1.437393    -0.640696  -0.858860  0.187305       -2.967412   \n",
       "2 -1.437393    -0.640696  -0.845434  0.187305        0.341421   \n",
       "3 -1.437393    -0.640696  -1.033397  0.187305        1.168630   \n",
       "4 -1.437393    -0.640696  -0.912564  2.779896        1.168630   \n",
       "\n",
       "   distribution_channel  is_repeated_guest  previous_cancellations  \\\n",
       "0              2.118765          -0.172577               -0.081677   \n",
       "1             -2.601195          -0.172577               -0.081677   \n",
       "2             -0.241215          -0.172577               -0.081677   \n",
       "3              2.118765          -0.172577               -0.081677   \n",
       "4              2.118765          -0.172577               -0.081677   \n",
       "\n",
       "   previous_bookings_not_canceled  reserved_room_type  booking_changes  \\\n",
       "0                       -0.088724           -0.561389        -0.372516   \n",
       "1                       -0.088724           -0.561389        -0.372516   \n",
       "2                       -0.088724           -0.561389        -0.372516   \n",
       "3                       -0.088724            1.326522        -0.372516   \n",
       "4                       -0.088724            1.326522        -0.372516   \n",
       "\n",
       "      agent  days_in_waiting_list  customer_type       adr  \\\n",
       "0 -0.590609             -0.067037       0.392233 -0.931096   \n",
       "1  2.162981             -0.067037       0.392233 -0.931096   \n",
       "2  1.555292             -0.067037       0.392233 -0.354134   \n",
       "3 -0.590609             -0.067037       0.392233 -0.128367   \n",
       "4  2.153486             -0.067037       0.392233 -0.228708   \n",
       "\n",
       "   required_car_parking_spaces  total_of_special_requests  total_members  \\\n",
       "0                    -0.302727                  -0.881914      -1.588769   \n",
       "1                    -0.302727                  -0.881914      -1.588769   \n",
       "2                    -0.302727                   0.311727      -0.093117   \n",
       "3                    -0.302727                  -0.881914      -0.093117   \n",
       "4                    -0.302727                   0.311727      -0.093117   \n",
       "\n",
       "   total_nights_stayed  \n",
       "0            -1.023513  \n",
       "1            -1.023513  \n",
       "2            -0.643442  \n",
       "3            -0.643442  \n",
       "4            -0.643442  "
      ]
     },
     "execution_count": 108,
     "metadata": {},
     "output_type": "execute_result"
    }
   ],
   "source": [
    "dataset.head()"
   ]
  },
  {
   "cell_type": "code",
   "execution_count": 109,
   "id": "00919d13",
   "metadata": {
    "ExecuteTime": {
     "end_time": "2024-03-03T09:59:39.355046Z",
     "start_time": "2024-03-03T09:59:39.316768Z"
    }
   },
   "outputs": [],
   "source": [
    "## Capture the dependent feature\n",
    "y_train=dataset[['adr']]\n",
    "X_train=dataset.drop(['adr'],axis=1)"
   ]
  },
  {
   "cell_type": "code",
   "execution_count": 110,
   "id": "1ac60192",
   "metadata": {
    "ExecuteTime": {
     "end_time": "2024-03-03T09:59:40.072283Z",
     "start_time": "2024-03-03T09:59:39.951691Z"
    }
   },
   "outputs": [
    {
     "data": {
      "text/plain": [
       "SelectFromModel(estimator=Lasso(alpha=0.005, random_state=0))"
      ]
     },
     "execution_count": 110,
     "metadata": {},
     "output_type": "execute_result"
    }
   ],
   "source": [
    "feature_sel_model = SelectFromModel(Lasso(alpha=0.005, random_state=0)) # remember to set the seed, the random state in this function\n",
    "feature_sel_model.fit(X_train, y_train)"
   ]
  },
  {
   "cell_type": "code",
   "execution_count": 111,
   "id": "a355f851",
   "metadata": {
    "ExecuteTime": {
     "end_time": "2024-03-03T09:59:40.848398Z",
     "start_time": "2024-03-03T09:59:40.821032Z"
    }
   },
   "outputs": [
    {
     "data": {
      "text/plain": [
       "array([ True,  True,  True,  True,  True,  True,  True,  True, False,\n",
       "        True,  True, False, False,  True,  True,  True,  True,  True])"
      ]
     },
     "execution_count": 111,
     "metadata": {},
     "output_type": "execute_result"
    }
   ],
   "source": [
    "feature_sel_model.get_support()"
   ]
  },
  {
   "cell_type": "code",
   "execution_count": 112,
   "id": "d6224749",
   "metadata": {
    "ExecuteTime": {
     "end_time": "2024-03-03T09:59:46.635775Z",
     "start_time": "2024-03-03T09:59:46.617081Z"
    }
   },
   "outputs": [
    {
     "name": "stdout",
     "output_type": "stream",
     "text": [
      "total features: 18\n",
      "selected features: 15\n"
     ]
    },
    {
     "data": {
      "text/plain": [
       "Index(['hotel', 'is_canceled', 'lead_time', 'meal', 'market_segment',\n",
       "       'distribution_channel', 'is_repeated_guest', 'previous_cancellations',\n",
       "       'reserved_room_type', 'booking_changes', 'customer_type',\n",
       "       'required_car_parking_spaces', 'total_of_special_requests',\n",
       "       'total_members', 'total_nights_stayed'],\n",
       "      dtype='object')"
      ]
     },
     "execution_count": 112,
     "metadata": {},
     "output_type": "execute_result"
    }
   ],
   "source": [
    "# this is how we can make a list of the selected features\n",
    "selected_feat = X_train.columns[(feature_sel_model.get_support())]\n",
    "\n",
    "# let's print some stats\n",
    "print('total features: {}'.format((X_train.shape[1])))\n",
    "print('selected features: {}'.format(len(selected_feat)))\n",
    "selected_feat"
   ]
  },
  {
   "cell_type": "code",
   "execution_count": 113,
   "id": "7a2fb86d",
   "metadata": {
    "ExecuteTime": {
     "end_time": "2024-03-03T10:00:11.623148Z",
     "start_time": "2024-03-03T10:00:11.572918Z"
    }
   },
   "outputs": [
    {
     "data": {
      "text/html": [
       "<div>\n",
       "<style scoped>\n",
       "    .dataframe tbody tr th:only-of-type {\n",
       "        vertical-align: middle;\n",
       "    }\n",
       "\n",
       "    .dataframe tbody tr th {\n",
       "        vertical-align: top;\n",
       "    }\n",
       "\n",
       "    .dataframe thead th {\n",
       "        text-align: right;\n",
       "    }\n",
       "</style>\n",
       "<table border=\"1\" class=\"dataframe\">\n",
       "  <thead>\n",
       "    <tr style=\"text-align: right;\">\n",
       "      <th></th>\n",
       "      <th>hotel</th>\n",
       "      <th>is_canceled</th>\n",
       "      <th>lead_time</th>\n",
       "      <th>meal</th>\n",
       "      <th>market_segment</th>\n",
       "      <th>distribution_channel</th>\n",
       "      <th>is_repeated_guest</th>\n",
       "      <th>previous_cancellations</th>\n",
       "      <th>reserved_room_type</th>\n",
       "      <th>booking_changes</th>\n",
       "      <th>customer_type</th>\n",
       "      <th>required_car_parking_spaces</th>\n",
       "      <th>total_of_special_requests</th>\n",
       "      <th>total_members</th>\n",
       "      <th>total_nights_stayed</th>\n",
       "    </tr>\n",
       "  </thead>\n",
       "  <tbody>\n",
       "    <tr>\n",
       "      <th>0</th>\n",
       "      <td>-1.437393</td>\n",
       "      <td>-0.640696</td>\n",
       "      <td>-0.939416</td>\n",
       "      <td>0.187305</td>\n",
       "      <td>1.168630</td>\n",
       "      <td>2.118765</td>\n",
       "      <td>-0.172577</td>\n",
       "      <td>-0.081677</td>\n",
       "      <td>-0.561389</td>\n",
       "      <td>-0.372516</td>\n",
       "      <td>0.392233</td>\n",
       "      <td>-0.302727</td>\n",
       "      <td>-0.881914</td>\n",
       "      <td>-1.588769</td>\n",
       "      <td>-1.023513</td>\n",
       "    </tr>\n",
       "    <tr>\n",
       "      <th>1</th>\n",
       "      <td>-1.437393</td>\n",
       "      <td>-0.640696</td>\n",
       "      <td>-0.858860</td>\n",
       "      <td>0.187305</td>\n",
       "      <td>-2.967412</td>\n",
       "      <td>-2.601195</td>\n",
       "      <td>-0.172577</td>\n",
       "      <td>-0.081677</td>\n",
       "      <td>-0.561389</td>\n",
       "      <td>-0.372516</td>\n",
       "      <td>0.392233</td>\n",
       "      <td>-0.302727</td>\n",
       "      <td>-0.881914</td>\n",
       "      <td>-1.588769</td>\n",
       "      <td>-1.023513</td>\n",
       "    </tr>\n",
       "    <tr>\n",
       "      <th>2</th>\n",
       "      <td>-1.437393</td>\n",
       "      <td>-0.640696</td>\n",
       "      <td>-0.845434</td>\n",
       "      <td>0.187305</td>\n",
       "      <td>0.341421</td>\n",
       "      <td>-0.241215</td>\n",
       "      <td>-0.172577</td>\n",
       "      <td>-0.081677</td>\n",
       "      <td>-0.561389</td>\n",
       "      <td>-0.372516</td>\n",
       "      <td>0.392233</td>\n",
       "      <td>-0.302727</td>\n",
       "      <td>0.311727</td>\n",
       "      <td>-0.093117</td>\n",
       "      <td>-0.643442</td>\n",
       "    </tr>\n",
       "    <tr>\n",
       "      <th>3</th>\n",
       "      <td>-1.437393</td>\n",
       "      <td>-0.640696</td>\n",
       "      <td>-1.033397</td>\n",
       "      <td>0.187305</td>\n",
       "      <td>1.168630</td>\n",
       "      <td>2.118765</td>\n",
       "      <td>-0.172577</td>\n",
       "      <td>-0.081677</td>\n",
       "      <td>1.326522</td>\n",
       "      <td>-0.372516</td>\n",
       "      <td>0.392233</td>\n",
       "      <td>-0.302727</td>\n",
       "      <td>-0.881914</td>\n",
       "      <td>-0.093117</td>\n",
       "      <td>-0.643442</td>\n",
       "    </tr>\n",
       "    <tr>\n",
       "      <th>4</th>\n",
       "      <td>-1.437393</td>\n",
       "      <td>-0.640696</td>\n",
       "      <td>-0.912564</td>\n",
       "      <td>2.779896</td>\n",
       "      <td>1.168630</td>\n",
       "      <td>2.118765</td>\n",
       "      <td>-0.172577</td>\n",
       "      <td>-0.081677</td>\n",
       "      <td>1.326522</td>\n",
       "      <td>-0.372516</td>\n",
       "      <td>0.392233</td>\n",
       "      <td>-0.302727</td>\n",
       "      <td>0.311727</td>\n",
       "      <td>-0.093117</td>\n",
       "      <td>-0.643442</td>\n",
       "    </tr>\n",
       "  </tbody>\n",
       "</table>\n",
       "</div>"
      ],
      "text/plain": [
       "      hotel  is_canceled  lead_time      meal  market_segment  \\\n",
       "0 -1.437393    -0.640696  -0.939416  0.187305        1.168630   \n",
       "1 -1.437393    -0.640696  -0.858860  0.187305       -2.967412   \n",
       "2 -1.437393    -0.640696  -0.845434  0.187305        0.341421   \n",
       "3 -1.437393    -0.640696  -1.033397  0.187305        1.168630   \n",
       "4 -1.437393    -0.640696  -0.912564  2.779896        1.168630   \n",
       "\n",
       "   distribution_channel  is_repeated_guest  previous_cancellations  \\\n",
       "0              2.118765          -0.172577               -0.081677   \n",
       "1             -2.601195          -0.172577               -0.081677   \n",
       "2             -0.241215          -0.172577               -0.081677   \n",
       "3              2.118765          -0.172577               -0.081677   \n",
       "4              2.118765          -0.172577               -0.081677   \n",
       "\n",
       "   reserved_room_type  booking_changes  customer_type  \\\n",
       "0           -0.561389        -0.372516       0.392233   \n",
       "1           -0.561389        -0.372516       0.392233   \n",
       "2           -0.561389        -0.372516       0.392233   \n",
       "3            1.326522        -0.372516       0.392233   \n",
       "4            1.326522        -0.372516       0.392233   \n",
       "\n",
       "   required_car_parking_spaces  total_of_special_requests  total_members  \\\n",
       "0                    -0.302727                  -0.881914      -1.588769   \n",
       "1                    -0.302727                  -0.881914      -1.588769   \n",
       "2                    -0.302727                   0.311727      -0.093117   \n",
       "3                    -0.302727                  -0.881914      -0.093117   \n",
       "4                    -0.302727                   0.311727      -0.093117   \n",
       "\n",
       "   total_nights_stayed  \n",
       "0            -1.023513  \n",
       "1            -1.023513  \n",
       "2            -0.643442  \n",
       "3            -0.643442  \n",
       "4            -0.643442  "
      ]
     },
     "execution_count": 113,
     "metadata": {},
     "output_type": "execute_result"
    }
   ],
   "source": [
    "X_train[selected_feat].head()"
   ]
  },
  {
   "cell_type": "code",
   "execution_count": 114,
   "id": "4c46ce38",
   "metadata": {
    "ExecuteTime": {
     "end_time": "2024-03-03T10:00:13.739704Z",
     "start_time": "2024-03-03T10:00:13.724376Z"
    }
   },
   "outputs": [
    {
     "name": "stdout",
     "output_type": "stream",
     "text": [
      "hotel\n",
      "is_canceled\n",
      "lead_time\n",
      "meal\n",
      "market_segment\n",
      "distribution_channel\n",
      "is_repeated_guest\n",
      "previous_cancellations\n",
      "reserved_room_type\n",
      "booking_changes\n",
      "customer_type\n",
      "required_car_parking_spaces\n",
      "total_of_special_requests\n",
      "total_members\n",
      "total_nights_stayed\n"
     ]
    }
   ],
   "source": [
    "for feature in selected_feat:\n",
    "    print(feature)"
   ]
  },
  {
   "cell_type": "code",
   "execution_count": 120,
   "id": "081ba1cb",
   "metadata": {
    "ExecuteTime": {
     "end_time": "2024-03-03T10:03:42.200079Z",
     "start_time": "2024-03-03T10:03:39.982541Z"
    }
   },
   "outputs": [],
   "source": [
    "X_train[selected_feat].join(y_train).to_csv('hotelPriceCleanedFS.csv', index=False)"
   ]
  },
  {
   "cell_type": "code",
   "execution_count": null,
   "id": "b87a674b",
   "metadata": {
    "ExecuteTime": {
     "end_time": "2024-03-03T10:04:36.325972Z",
     "start_time": "2024-03-03T10:04:36.304911Z"
    }
   },
   "outputs": [],
   "source": []
  },
  {
   "cell_type": "code",
   "execution_count": null,
   "id": "83615ede",
   "metadata": {},
   "outputs": [],
   "source": []
  }
 ],
 "metadata": {
  "hide_input": false,
  "kernelspec": {
   "display_name": "Python 3 (ipykernel)",
   "language": "python",
   "name": "python3"
  },
  "language_info": {
   "codemirror_mode": {
    "name": "ipython",
    "version": 3
   },
   "file_extension": ".py",
   "mimetype": "text/x-python",
   "name": "python",
   "nbconvert_exporter": "python",
   "pygments_lexer": "ipython3",
   "version": "3.7.6"
  },
  "toc": {
   "base_numbering": 1,
   "nav_menu": {},
   "number_sections": true,
   "sideBar": true,
   "skip_h1_title": false,
   "title_cell": "Table of Contents",
   "title_sidebar": "Contents",
   "toc_cell": false,
   "toc_position": {},
   "toc_section_display": true,
   "toc_window_display": false
  }
 },
 "nbformat": 4,
 "nbformat_minor": 5
}
