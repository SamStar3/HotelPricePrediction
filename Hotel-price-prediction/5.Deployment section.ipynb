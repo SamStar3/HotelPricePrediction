{
 "cells": [
  {
   "cell_type": "markdown",
   "id": "dfd00a7a",
   "metadata": {},
   "source": [
    "  # House price Prediction - Deployment"
   ]
  },
  {
   "cell_type": "code",
   "execution_count": 1,
   "id": "7cb715c1",
   "metadata": {
    "ExecuteTime": {
     "end_time": "2024-03-11T06:24:44.780498Z",
     "start_time": "2024-03-11T06:24:39.717190Z"
    }
   },
   "outputs": [],
   "source": [
    "import pandas as pd \n",
    "import matplotlib.pyplot as plt\n",
    "from sklearn.model_selection import train_test_split\n",
    "from sklearn.preprocessing import StandardScaler\n",
    "from xgboost import XGBRegressor\n",
    "from sklearn.linear_model import LinearRegression\n",
    "from sklearn.metrics import r2_score"
   ]
  },
  {
   "cell_type": "code",
   "execution_count": 2,
   "id": "3a760314",
   "metadata": {
    "ExecuteTime": {
     "end_time": "2024-03-11T06:24:44.936179Z",
     "start_time": "2024-03-11T06:24:44.785343Z"
    }
   },
   "outputs": [
    {
     "data": {
      "text/plain": [
       "(74142, 16)"
      ]
     },
     "execution_count": 2,
     "metadata": {},
     "output_type": "execute_result"
    }
   ],
   "source": [
    "dataSet = pd.read_csv('hotelPriceCleaned.csv')\n",
    "dataSet.shape"
   ]
  },
  {
   "cell_type": "code",
   "execution_count": 12,
   "id": "3b196e97",
   "metadata": {
    "ExecuteTime": {
     "end_time": "2024-03-11T06:29:47.154972Z",
     "start_time": "2024-03-11T06:29:47.131668Z"
    }
   },
   "outputs": [
    {
     "data": {
      "text/html": [
       "<div>\n",
       "<style scoped>\n",
       "    .dataframe tbody tr th:only-of-type {\n",
       "        vertical-align: middle;\n",
       "    }\n",
       "\n",
       "    .dataframe tbody tr th {\n",
       "        vertical-align: top;\n",
       "    }\n",
       "\n",
       "    .dataframe thead th {\n",
       "        text-align: right;\n",
       "    }\n",
       "</style>\n",
       "<table border=\"1\" class=\"dataframe\">\n",
       "  <thead>\n",
       "    <tr style=\"text-align: right;\">\n",
       "      <th></th>\n",
       "      <th>hotel</th>\n",
       "      <th>lead_time</th>\n",
       "      <th>arrival_date_year</th>\n",
       "      <th>arrival_date_month</th>\n",
       "      <th>arrival_date_day_of_month</th>\n",
       "      <th>meal</th>\n",
       "      <th>market_segment</th>\n",
       "      <th>reserved_room_type</th>\n",
       "      <th>assigned_room_type</th>\n",
       "      <th>days_in_waiting_list</th>\n",
       "      <th>customer_type</th>\n",
       "      <th>required_car_parking_spaces</th>\n",
       "      <th>total_of_special_requests</th>\n",
       "      <th>totalStayNights</th>\n",
       "      <th>totalPerson</th>\n",
       "      <th>adr</th>\n",
       "    </tr>\n",
       "  </thead>\n",
       "  <tbody>\n",
       "    <tr>\n",
       "      <th>0</th>\n",
       "      <td>1</td>\n",
       "      <td>7</td>\n",
       "      <td>2015</td>\n",
       "      <td>5</td>\n",
       "      <td>1</td>\n",
       "      <td>0</td>\n",
       "      <td>3</td>\n",
       "      <td>0</td>\n",
       "      <td>2</td>\n",
       "      <td>0</td>\n",
       "      <td>2</td>\n",
       "      <td>0</td>\n",
       "      <td>0</td>\n",
       "      <td>1</td>\n",
       "      <td>1.0</td>\n",
       "      <td>75.0</td>\n",
       "    </tr>\n",
       "    <tr>\n",
       "      <th>1</th>\n",
       "      <td>1</td>\n",
       "      <td>13</td>\n",
       "      <td>2015</td>\n",
       "      <td>5</td>\n",
       "      <td>1</td>\n",
       "      <td>0</td>\n",
       "      <td>2</td>\n",
       "      <td>0</td>\n",
       "      <td>0</td>\n",
       "      <td>0</td>\n",
       "      <td>2</td>\n",
       "      <td>0</td>\n",
       "      <td>0</td>\n",
       "      <td>1</td>\n",
       "      <td>1.0</td>\n",
       "      <td>75.0</td>\n",
       "    </tr>\n",
       "    <tr>\n",
       "      <th>2</th>\n",
       "      <td>1</td>\n",
       "      <td>14</td>\n",
       "      <td>2015</td>\n",
       "      <td>5</td>\n",
       "      <td>1</td>\n",
       "      <td>0</td>\n",
       "      <td>6</td>\n",
       "      <td>0</td>\n",
       "      <td>0</td>\n",
       "      <td>0</td>\n",
       "      <td>2</td>\n",
       "      <td>0</td>\n",
       "      <td>1</td>\n",
       "      <td>2</td>\n",
       "      <td>2.0</td>\n",
       "      <td>98.0</td>\n",
       "    </tr>\n",
       "    <tr>\n",
       "      <th>3</th>\n",
       "      <td>1</td>\n",
       "      <td>0</td>\n",
       "      <td>2015</td>\n",
       "      <td>5</td>\n",
       "      <td>1</td>\n",
       "      <td>0</td>\n",
       "      <td>3</td>\n",
       "      <td>2</td>\n",
       "      <td>2</td>\n",
       "      <td>0</td>\n",
       "      <td>2</td>\n",
       "      <td>0</td>\n",
       "      <td>0</td>\n",
       "      <td>2</td>\n",
       "      <td>2.0</td>\n",
       "      <td>107.0</td>\n",
       "    </tr>\n",
       "    <tr>\n",
       "      <th>4</th>\n",
       "      <td>1</td>\n",
       "      <td>9</td>\n",
       "      <td>2015</td>\n",
       "      <td>5</td>\n",
       "      <td>1</td>\n",
       "      <td>1</td>\n",
       "      <td>3</td>\n",
       "      <td>2</td>\n",
       "      <td>2</td>\n",
       "      <td>0</td>\n",
       "      <td>2</td>\n",
       "      <td>0</td>\n",
       "      <td>1</td>\n",
       "      <td>2</td>\n",
       "      <td>2.0</td>\n",
       "      <td>103.0</td>\n",
       "    </tr>\n",
       "  </tbody>\n",
       "</table>\n",
       "</div>"
      ],
      "text/plain": [
       "   hotel  lead_time  arrival_date_year  arrival_date_month  \\\n",
       "0      1          7               2015                   5   \n",
       "1      1         13               2015                   5   \n",
       "2      1         14               2015                   5   \n",
       "3      1          0               2015                   5   \n",
       "4      1          9               2015                   5   \n",
       "\n",
       "   arrival_date_day_of_month  meal  market_segment  reserved_room_type  \\\n",
       "0                          1     0               3                   0   \n",
       "1                          1     0               2                   0   \n",
       "2                          1     0               6                   0   \n",
       "3                          1     0               3                   2   \n",
       "4                          1     1               3                   2   \n",
       "\n",
       "   assigned_room_type  days_in_waiting_list  customer_type  \\\n",
       "0                   2                     0              2   \n",
       "1                   0                     0              2   \n",
       "2                   0                     0              2   \n",
       "3                   2                     0              2   \n",
       "4                   2                     0              2   \n",
       "\n",
       "   required_car_parking_spaces  total_of_special_requests  totalStayNights  \\\n",
       "0                            0                          0                1   \n",
       "1                            0                          0                1   \n",
       "2                            0                          1                2   \n",
       "3                            0                          0                2   \n",
       "4                            0                          1                2   \n",
       "\n",
       "   totalPerson    adr  \n",
       "0          1.0   75.0  \n",
       "1          1.0   75.0  \n",
       "2          2.0   98.0  \n",
       "3          2.0  107.0  \n",
       "4          2.0  103.0  "
      ]
     },
     "execution_count": 12,
     "metadata": {},
     "output_type": "execute_result"
    }
   ],
   "source": [
    "dataSet.head()"
   ]
  },
  {
   "cell_type": "code",
   "execution_count": 4,
   "id": "86990892",
   "metadata": {
    "ExecuteTime": {
     "end_time": "2024-03-11T06:24:49.372793Z",
     "start_time": "2024-03-11T06:24:49.319536Z"
    }
   },
   "outputs": [],
   "source": [
    "independent = dataSet.drop(columns='adr')\n",
    "dependent = dataSet[['adr']]"
   ]
  },
  {
   "cell_type": "code",
   "execution_count": 5,
   "id": "686f59fe",
   "metadata": {
    "ExecuteTime": {
     "end_time": "2024-03-11T06:24:51.952261Z",
     "start_time": "2024-03-11T06:24:51.931570Z"
    }
   },
   "outputs": [
    {
     "data": {
      "text/html": [
       "<div>\n",
       "<style scoped>\n",
       "    .dataframe tbody tr th:only-of-type {\n",
       "        vertical-align: middle;\n",
       "    }\n",
       "\n",
       "    .dataframe tbody tr th {\n",
       "        vertical-align: top;\n",
       "    }\n",
       "\n",
       "    .dataframe thead th {\n",
       "        text-align: right;\n",
       "    }\n",
       "</style>\n",
       "<table border=\"1\" class=\"dataframe\">\n",
       "  <thead>\n",
       "    <tr style=\"text-align: right;\">\n",
       "      <th></th>\n",
       "      <th>hotel</th>\n",
       "      <th>lead_time</th>\n",
       "      <th>arrival_date_year</th>\n",
       "      <th>arrival_date_month</th>\n",
       "      <th>arrival_date_day_of_month</th>\n",
       "      <th>meal</th>\n",
       "      <th>market_segment</th>\n",
       "      <th>reserved_room_type</th>\n",
       "      <th>assigned_room_type</th>\n",
       "      <th>days_in_waiting_list</th>\n",
       "      <th>customer_type</th>\n",
       "      <th>required_car_parking_spaces</th>\n",
       "      <th>total_of_special_requests</th>\n",
       "      <th>totalStayNights</th>\n",
       "      <th>totalPerson</th>\n",
       "    </tr>\n",
       "  </thead>\n",
       "  <tbody>\n",
       "    <tr>\n",
       "      <th>0</th>\n",
       "      <td>1</td>\n",
       "      <td>7</td>\n",
       "      <td>2015</td>\n",
       "      <td>5</td>\n",
       "      <td>1</td>\n",
       "      <td>0</td>\n",
       "      <td>3</td>\n",
       "      <td>0</td>\n",
       "      <td>2</td>\n",
       "      <td>0</td>\n",
       "      <td>2</td>\n",
       "      <td>0</td>\n",
       "      <td>0</td>\n",
       "      <td>1</td>\n",
       "      <td>1.0</td>\n",
       "    </tr>\n",
       "    <tr>\n",
       "      <th>1</th>\n",
       "      <td>1</td>\n",
       "      <td>13</td>\n",
       "      <td>2015</td>\n",
       "      <td>5</td>\n",
       "      <td>1</td>\n",
       "      <td>0</td>\n",
       "      <td>2</td>\n",
       "      <td>0</td>\n",
       "      <td>0</td>\n",
       "      <td>0</td>\n",
       "      <td>2</td>\n",
       "      <td>0</td>\n",
       "      <td>0</td>\n",
       "      <td>1</td>\n",
       "      <td>1.0</td>\n",
       "    </tr>\n",
       "    <tr>\n",
       "      <th>2</th>\n",
       "      <td>1</td>\n",
       "      <td>14</td>\n",
       "      <td>2015</td>\n",
       "      <td>5</td>\n",
       "      <td>1</td>\n",
       "      <td>0</td>\n",
       "      <td>6</td>\n",
       "      <td>0</td>\n",
       "      <td>0</td>\n",
       "      <td>0</td>\n",
       "      <td>2</td>\n",
       "      <td>0</td>\n",
       "      <td>1</td>\n",
       "      <td>2</td>\n",
       "      <td>2.0</td>\n",
       "    </tr>\n",
       "    <tr>\n",
       "      <th>3</th>\n",
       "      <td>1</td>\n",
       "      <td>0</td>\n",
       "      <td>2015</td>\n",
       "      <td>5</td>\n",
       "      <td>1</td>\n",
       "      <td>0</td>\n",
       "      <td>3</td>\n",
       "      <td>2</td>\n",
       "      <td>2</td>\n",
       "      <td>0</td>\n",
       "      <td>2</td>\n",
       "      <td>0</td>\n",
       "      <td>0</td>\n",
       "      <td>2</td>\n",
       "      <td>2.0</td>\n",
       "    </tr>\n",
       "    <tr>\n",
       "      <th>4</th>\n",
       "      <td>1</td>\n",
       "      <td>9</td>\n",
       "      <td>2015</td>\n",
       "      <td>5</td>\n",
       "      <td>1</td>\n",
       "      <td>1</td>\n",
       "      <td>3</td>\n",
       "      <td>2</td>\n",
       "      <td>2</td>\n",
       "      <td>0</td>\n",
       "      <td>2</td>\n",
       "      <td>0</td>\n",
       "      <td>1</td>\n",
       "      <td>2</td>\n",
       "      <td>2.0</td>\n",
       "    </tr>\n",
       "  </tbody>\n",
       "</table>\n",
       "</div>"
      ],
      "text/plain": [
       "   hotel  lead_time  arrival_date_year  arrival_date_month  \\\n",
       "0      1          7               2015                   5   \n",
       "1      1         13               2015                   5   \n",
       "2      1         14               2015                   5   \n",
       "3      1          0               2015                   5   \n",
       "4      1          9               2015                   5   \n",
       "\n",
       "   arrival_date_day_of_month  meal  market_segment  reserved_room_type  \\\n",
       "0                          1     0               3                   0   \n",
       "1                          1     0               2                   0   \n",
       "2                          1     0               6                   0   \n",
       "3                          1     0               3                   2   \n",
       "4                          1     1               3                   2   \n",
       "\n",
       "   assigned_room_type  days_in_waiting_list  customer_type  \\\n",
       "0                   2                     0              2   \n",
       "1                   0                     0              2   \n",
       "2                   0                     0              2   \n",
       "3                   2                     0              2   \n",
       "4                   2                     0              2   \n",
       "\n",
       "   required_car_parking_spaces  total_of_special_requests  totalStayNights  \\\n",
       "0                            0                          0                1   \n",
       "1                            0                          0                1   \n",
       "2                            0                          1                2   \n",
       "3                            0                          0                2   \n",
       "4                            0                          1                2   \n",
       "\n",
       "   totalPerson  \n",
       "0          1.0  \n",
       "1          1.0  \n",
       "2          2.0  \n",
       "3          2.0  \n",
       "4          2.0  "
      ]
     },
     "execution_count": 5,
     "metadata": {},
     "output_type": "execute_result"
    }
   ],
   "source": [
    "independent.head()"
   ]
  },
  {
   "cell_type": "code",
   "execution_count": 6,
   "id": "dc55a7f4",
   "metadata": {
    "ExecuteTime": {
     "end_time": "2024-03-11T06:24:54.143727Z",
     "start_time": "2024-03-11T06:24:54.122373Z"
    }
   },
   "outputs": [
    {
     "data": {
      "text/html": [
       "<div>\n",
       "<style scoped>\n",
       "    .dataframe tbody tr th:only-of-type {\n",
       "        vertical-align: middle;\n",
       "    }\n",
       "\n",
       "    .dataframe tbody tr th {\n",
       "        vertical-align: top;\n",
       "    }\n",
       "\n",
       "    .dataframe thead th {\n",
       "        text-align: right;\n",
       "    }\n",
       "</style>\n",
       "<table border=\"1\" class=\"dataframe\">\n",
       "  <thead>\n",
       "    <tr style=\"text-align: right;\">\n",
       "      <th></th>\n",
       "      <th>adr</th>\n",
       "    </tr>\n",
       "  </thead>\n",
       "  <tbody>\n",
       "    <tr>\n",
       "      <th>0</th>\n",
       "      <td>75.0</td>\n",
       "    </tr>\n",
       "    <tr>\n",
       "      <th>1</th>\n",
       "      <td>75.0</td>\n",
       "    </tr>\n",
       "    <tr>\n",
       "      <th>2</th>\n",
       "      <td>98.0</td>\n",
       "    </tr>\n",
       "    <tr>\n",
       "      <th>3</th>\n",
       "      <td>107.0</td>\n",
       "    </tr>\n",
       "    <tr>\n",
       "      <th>4</th>\n",
       "      <td>103.0</td>\n",
       "    </tr>\n",
       "  </tbody>\n",
       "</table>\n",
       "</div>"
      ],
      "text/plain": [
       "     adr\n",
       "0   75.0\n",
       "1   75.0\n",
       "2   98.0\n",
       "3  107.0\n",
       "4  103.0"
      ]
     },
     "execution_count": 6,
     "metadata": {},
     "output_type": "execute_result"
    }
   ],
   "source": [
    "dependent.head()"
   ]
  },
  {
   "cell_type": "code",
   "execution_count": 8,
   "id": "09e5d904",
   "metadata": {
    "ExecuteTime": {
     "end_time": "2024-03-08T17:30:53.899161Z",
     "start_time": "2024-03-08T17:30:53.792384Z"
    }
   },
   "outputs": [
    {
     "data": {
      "text/html": [
       "<div>\n",
       "<style scoped>\n",
       "    .dataframe tbody tr th:only-of-type {\n",
       "        vertical-align: middle;\n",
       "    }\n",
       "\n",
       "    .dataframe tbody tr th {\n",
       "        vertical-align: top;\n",
       "    }\n",
       "\n",
       "    .dataframe thead th {\n",
       "        text-align: right;\n",
       "    }\n",
       "</style>\n",
       "<table border=\"1\" class=\"dataframe\">\n",
       "  <thead>\n",
       "    <tr style=\"text-align: right;\">\n",
       "      <th></th>\n",
       "      <th>hotel</th>\n",
       "      <th>lead_time</th>\n",
       "      <th>arrival_date_year</th>\n",
       "      <th>arrival_date_month</th>\n",
       "      <th>arrival_date_day_of_month</th>\n",
       "      <th>meal</th>\n",
       "      <th>market_segment</th>\n",
       "      <th>reserved_room_type</th>\n",
       "      <th>assigned_room_type</th>\n",
       "      <th>days_in_waiting_list</th>\n",
       "      <th>customer_type</th>\n",
       "      <th>required_car_parking_spaces</th>\n",
       "      <th>total_of_special_requests</th>\n",
       "      <th>totalStayNights</th>\n",
       "      <th>totalPerson</th>\n",
       "    </tr>\n",
       "  </thead>\n",
       "  <tbody>\n",
       "    <tr>\n",
       "      <th>0</th>\n",
       "      <td>1.400294</td>\n",
       "      <td>-0.888574</td>\n",
       "      <td>-1.82427</td>\n",
       "      <td>-0.062444</td>\n",
       "      <td>-1.674065</td>\n",
       "      <td>-0.524247</td>\n",
       "      <td>-1.772949</td>\n",
       "      <td>-0.735479</td>\n",
       "      <td>0.156552</td>\n",
       "      <td>-0.068754</td>\n",
       "      <td>-0.052593</td>\n",
       "      <td>-0.304349</td>\n",
       "      <td>-0.875107</td>\n",
       "      <td>-1.023153</td>\n",
       "      <td>-1.561893</td>\n",
       "    </tr>\n",
       "    <tr>\n",
       "      <th>1</th>\n",
       "      <td>1.400294</td>\n",
       "      <td>-0.817880</td>\n",
       "      <td>-1.82427</td>\n",
       "      <td>-0.062444</td>\n",
       "      <td>-1.674065</td>\n",
       "      <td>-0.524247</td>\n",
       "      <td>-2.574356</td>\n",
       "      <td>-0.735479</td>\n",
       "      <td>-0.855971</td>\n",
       "      <td>-0.068754</td>\n",
       "      <td>-0.052593</td>\n",
       "      <td>-0.304349</td>\n",
       "      <td>-0.875107</td>\n",
       "      <td>-1.023153</td>\n",
       "      <td>-1.561893</td>\n",
       "    </tr>\n",
       "    <tr>\n",
       "      <th>2</th>\n",
       "      <td>1.400294</td>\n",
       "      <td>-0.806098</td>\n",
       "      <td>-1.82427</td>\n",
       "      <td>-0.062444</td>\n",
       "      <td>-1.674065</td>\n",
       "      <td>-0.524247</td>\n",
       "      <td>0.631272</td>\n",
       "      <td>-0.735479</td>\n",
       "      <td>-0.855971</td>\n",
       "      <td>-0.068754</td>\n",
       "      <td>-0.052593</td>\n",
       "      <td>-0.304349</td>\n",
       "      <td>0.313625</td>\n",
       "      <td>-0.646426</td>\n",
       "      <td>-0.133739</td>\n",
       "    </tr>\n",
       "    <tr>\n",
       "      <th>3</th>\n",
       "      <td>1.400294</td>\n",
       "      <td>-0.971049</td>\n",
       "      <td>-1.82427</td>\n",
       "      <td>-0.062444</td>\n",
       "      <td>-1.674065</td>\n",
       "      <td>-0.524247</td>\n",
       "      <td>-1.772949</td>\n",
       "      <td>0.325249</td>\n",
       "      <td>0.156552</td>\n",
       "      <td>-0.068754</td>\n",
       "      <td>-0.052593</td>\n",
       "      <td>-0.304349</td>\n",
       "      <td>-0.875107</td>\n",
       "      <td>-0.646426</td>\n",
       "      <td>-0.133739</td>\n",
       "    </tr>\n",
       "    <tr>\n",
       "      <th>4</th>\n",
       "      <td>1.400294</td>\n",
       "      <td>-0.865009</td>\n",
       "      <td>-1.82427</td>\n",
       "      <td>-0.062444</td>\n",
       "      <td>-1.674065</td>\n",
       "      <td>0.201146</td>\n",
       "      <td>-1.772949</td>\n",
       "      <td>0.325249</td>\n",
       "      <td>0.156552</td>\n",
       "      <td>-0.068754</td>\n",
       "      <td>-0.052593</td>\n",
       "      <td>-0.304349</td>\n",
       "      <td>0.313625</td>\n",
       "      <td>-0.646426</td>\n",
       "      <td>-0.133739</td>\n",
       "    </tr>\n",
       "  </tbody>\n",
       "</table>\n",
       "</div>"
      ],
      "text/plain": [
       "      hotel  lead_time  arrival_date_year  arrival_date_month  \\\n",
       "0  1.400294  -0.888574           -1.82427           -0.062444   \n",
       "1  1.400294  -0.817880           -1.82427           -0.062444   \n",
       "2  1.400294  -0.806098           -1.82427           -0.062444   \n",
       "3  1.400294  -0.971049           -1.82427           -0.062444   \n",
       "4  1.400294  -0.865009           -1.82427           -0.062444   \n",
       "\n",
       "   arrival_date_day_of_month      meal  market_segment  reserved_room_type  \\\n",
       "0                  -1.674065 -0.524247       -1.772949           -0.735479   \n",
       "1                  -1.674065 -0.524247       -2.574356           -0.735479   \n",
       "2                  -1.674065 -0.524247        0.631272           -0.735479   \n",
       "3                  -1.674065 -0.524247       -1.772949            0.325249   \n",
       "4                  -1.674065  0.201146       -1.772949            0.325249   \n",
       "\n",
       "   assigned_room_type  days_in_waiting_list  customer_type  \\\n",
       "0            0.156552             -0.068754      -0.052593   \n",
       "1           -0.855971             -0.068754      -0.052593   \n",
       "2           -0.855971             -0.068754      -0.052593   \n",
       "3            0.156552             -0.068754      -0.052593   \n",
       "4            0.156552             -0.068754      -0.052593   \n",
       "\n",
       "   required_car_parking_spaces  total_of_special_requests  totalStayNights  \\\n",
       "0                    -0.304349                  -0.875107        -1.023153   \n",
       "1                    -0.304349                  -0.875107        -1.023153   \n",
       "2                    -0.304349                   0.313625        -0.646426   \n",
       "3                    -0.304349                  -0.875107        -0.646426   \n",
       "4                    -0.304349                   0.313625        -0.646426   \n",
       "\n",
       "   totalPerson  \n",
       "0    -1.561893  \n",
       "1    -1.561893  \n",
       "2    -0.133739  \n",
       "3    -0.133739  \n",
       "4    -0.133739  "
      ]
     },
     "execution_count": 8,
     "metadata": {},
     "output_type": "execute_result"
    }
   ],
   "source": [
    "independentScaler = StandardScaler()\n",
    "independent = pd.DataFrame(independentScaler.fit_transform(independent), columns= independent.columns)\n",
    "independent.head()"
   ]
  },
  {
   "cell_type": "code",
   "execution_count": 9,
   "id": "b2cee258",
   "metadata": {
    "ExecuteTime": {
     "end_time": "2024-03-08T17:30:54.148999Z",
     "start_time": "2024-03-08T17:30:54.105053Z"
    }
   },
   "outputs": [
    {
     "data": {
      "text/html": [
       "<div>\n",
       "<style scoped>\n",
       "    .dataframe tbody tr th:only-of-type {\n",
       "        vertical-align: middle;\n",
       "    }\n",
       "\n",
       "    .dataframe tbody tr th {\n",
       "        vertical-align: top;\n",
       "    }\n",
       "\n",
       "    .dataframe thead th {\n",
       "        text-align: right;\n",
       "    }\n",
       "</style>\n",
       "<table border=\"1\" class=\"dataframe\">\n",
       "  <thead>\n",
       "    <tr style=\"text-align: right;\">\n",
       "      <th></th>\n",
       "      <th>adr</th>\n",
       "    </tr>\n",
       "  </thead>\n",
       "  <tbody>\n",
       "    <tr>\n",
       "      <th>0</th>\n",
       "      <td>-0.876426</td>\n",
       "    </tr>\n",
       "    <tr>\n",
       "      <th>1</th>\n",
       "      <td>-0.876426</td>\n",
       "    </tr>\n",
       "    <tr>\n",
       "      <th>2</th>\n",
       "      <td>-0.391900</td>\n",
       "    </tr>\n",
       "    <tr>\n",
       "      <th>3</th>\n",
       "      <td>-0.202303</td>\n",
       "    </tr>\n",
       "    <tr>\n",
       "      <th>4</th>\n",
       "      <td>-0.286568</td>\n",
       "    </tr>\n",
       "  </tbody>\n",
       "</table>\n",
       "</div>"
      ],
      "text/plain": [
       "        adr\n",
       "0 -0.876426\n",
       "1 -0.876426\n",
       "2 -0.391900\n",
       "3 -0.202303\n",
       "4 -0.286568"
      ]
     },
     "execution_count": 9,
     "metadata": {},
     "output_type": "execute_result"
    }
   ],
   "source": [
    "dependentScaler = StandardScaler()\n",
    "dependent = pd.DataFrame(dependentScaler.fit_transform(dependent), columns= dependent.columns)\n",
    "dependent.head()"
   ]
  },
  {
   "cell_type": "code",
   "execution_count": 10,
   "id": "9f05b2e8",
   "metadata": {
    "ExecuteTime": {
     "end_time": "2024-03-08T17:30:54.462366Z",
     "start_time": "2024-03-08T17:30:54.414010Z"
    }
   },
   "outputs": [],
   "source": [
    "xTrain, xTest, yTrain, yTest = train_test_split(independent.values, dependent.values, test_size=0.30, random_state= 42)"
   ]
  },
  {
   "cell_type": "code",
   "execution_count": 11,
   "id": "c0248b6e",
   "metadata": {
    "ExecuteTime": {
     "end_time": "2024-03-08T17:30:56.441379Z",
     "start_time": "2024-03-08T17:30:54.747148Z"
    }
   },
   "outputs": [
    {
     "data": {
      "text/plain": [
       "XGBRegressor(base_score=0.5, booster='gbtree', callbacks=None,\n",
       "             colsample_bylevel=1, colsample_bynode=1, colsample_bytree=1,\n",
       "             early_stopping_rounds=None, enable_categorical=False,\n",
       "             eval_metric=None, gamma=0, gpu_id=-1, grow_policy='depthwise',\n",
       "             importance_type=None, interaction_constraints='',\n",
       "             learning_rate=0.300000012, max_bin=256, max_cat_to_onehot=4,\n",
       "             max_delta_step=0, max_depth=6, max_leaves=0, min_child_weight=1,\n",
       "             missing=nan, monotone_constraints='()', n_estimators=100, n_jobs=0,\n",
       "             num_parallel_tree=1, predictor='auto', random_state=0, reg_alpha=0,\n",
       "             reg_lambda=1, ...)"
      ]
     },
     "execution_count": 11,
     "metadata": {},
     "output_type": "execute_result"
    }
   ],
   "source": [
    "regressor = XGBRegressor()\n",
    "regressor.fit(xTrain, yTrain)"
   ]
  },
  {
   "cell_type": "code",
   "execution_count": 12,
   "id": "ed71cf6c",
   "metadata": {
    "ExecuteTime": {
     "end_time": "2024-03-08T17:30:56.486776Z",
     "start_time": "2024-03-08T17:30:56.445369Z"
    }
   },
   "outputs": [],
   "source": [
    "yPred = regressor.predict(xTest)"
   ]
  },
  {
   "cell_type": "code",
   "execution_count": 13,
   "id": "9e05b40e",
   "metadata": {
    "ExecuteTime": {
     "end_time": "2024-03-08T17:30:56.501736Z",
     "start_time": "2024-03-08T17:30:56.489769Z"
    }
   },
   "outputs": [
    {
     "data": {
      "text/plain": [
       "0.8585342959554141"
      ]
     },
     "execution_count": 13,
     "metadata": {},
     "output_type": "execute_result"
    }
   ],
   "source": [
    "r2_score(yTest, yPred)"
   ]
  },
  {
   "cell_type": "code",
   "execution_count": 13,
   "id": "3bfe7b12",
   "metadata": {
    "ExecuteTime": {
     "end_time": "2024-03-07T17:12:00.340053Z",
     "start_time": "2024-03-07T17:11:59.387603Z"
    }
   },
   "outputs": [
    {
     "data": {
      "image/png": "[encoded data removed]",
      "text/plain": [
       "<Figure size 640x480 with 1 Axes>"
      ]
     },
     "metadata": {},
     "output_type": "display_data"
    }
   ],
   "source": [
    "# Prediction graph\n",
    "xmin= min(yTest.min(), yPred.min() )-1\n",
    "xmax= max(yTest.max(), yPred.max() )+1\n",
    "fig = plt.figure(1)\n",
    "plt.scatter(yTest ,yPred, marker='+', label='test')\n",
    "plt.plot([xmin,xmax], [xmin,xmax], lw=3, color='k', ls='--') # droite separatrice d'equation x2=x1\n",
    "plt.xlabel('Groundtruth')\n",
    "plt.ylabel('Prediction') \n",
    "plt.title(\"Comparison of Ground Truth and Predictions using the {}.\".format('XGBRegressor'))\n",
    "plt.legend()\n",
    "plt.show() "
   ]
  },
  {
   "cell_type": "code",
   "execution_count": 25,
   "id": "6d35cf4d",
   "metadata": {
    "ExecuteTime": {
     "end_time": "2024-03-11T06:34:58.356745Z",
     "start_time": "2024-03-11T06:34:58.349790Z"
    },
    "run_control": {
     "marked": true
    }
   },
   "outputs": [],
   "source": [
    "import pickle"
   ]
  },
  {
   "cell_type": "code",
   "execution_count": 32,
   "id": "05b948a8",
   "metadata": {
    "ExecuteTime": {
     "end_time": "2024-03-08T17:40:47.038500Z",
     "start_time": "2024-03-08T17:40:47.031676Z"
    }
   },
   "outputs": [],
   "source": [
    "fileName = \"independentScaler.sav\"\n",
    "pickle.dump(independentScaler, open(fileName, 'wb'))"
   ]
  },
  {
   "cell_type": "code",
   "execution_count": 28,
   "id": "aa51635d",
   "metadata": {
    "ExecuteTime": {
     "end_time": "2024-03-11T06:35:30.416611Z",
     "start_time": "2024-03-11T06:35:30.410431Z"
    }
   },
   "outputs": [],
   "source": [
    "hotel = 1\n",
    "leadTime = 25 \n",
    "arrivalDataYear = 2024\n",
    "arrivalDataMoth = 5 \n",
    "arrivalDate = 25\n",
    "meal = 2 #\n",
    "marketSegement = 3 \n",
    "reservedRoomType = 2\n",
    "assignedRoomType = 3 \n",
    "daysWaitingList = 0\n",
    "customerType = 2 \n",
    "carparking  = 3 \n",
    "specialRequest = 2 \n",
    "totalStay = 3 \n",
    "totalPerson = 3 \n",
    "inPutUser = list([hotel,leadTime, arrivalDataYear, arrivalDataMoth, arrivalDate, meal, marketSegement,\n",
    "                reservedRoomType, assignedRoomType, daysWaitingList, customerType, carparking, \n",
    "                 specialRequest,\n",
    "                totalStay, totalPerson]) "
   ]
  },
  {
   "cell_type": "code",
   "execution_count": 29,
   "id": "ce17d79b",
   "metadata": {
    "ExecuteTime": {
     "end_time": "2024-03-11T06:35:31.194140Z",
     "start_time": "2024-03-11T06:35:31.171472Z"
    }
   },
   "outputs": [
    {
     "name": "stderr",
     "output_type": "stream",
     "text": [
      "C:\\Users\\REVANTH KUMAR\\Anaconda3\\envs\\hopeAi\\lib\\site-packages\\sklearn\\base.py:451: UserWarning: X does not have valid feature names, but StandardScaler was fitted with feature names\n",
      "  \"X does not have valid feature names, but\"\n"
     ]
    },
    {
     "data": {
      "text/plain": [
       "array([[ 1.40029434, -0.67649287, 11.42924253, -0.06244416,  1.03536251,\n",
       "         0.92653879, -1.77294884,  0.32524859,  0.66281337, -0.06875367,\n",
       "        -0.05259306, 10.2581532 ,  1.50235755, -0.26969795,  1.29441496]])"
      ]
     },
     "execution_count": 29,
     "metadata": {},
     "output_type": "execute_result"
    }
   ],
   "source": [
    "inputStandatScaler = pickle.load(open(\"independentScaler.sav\", \"rb\"))\n",
    "# userInput = dataSet.drop(columns='adr').values[5]\n",
    "userInput = inputStandatScaler.transform([inPutUser])\n",
    "userInput"
   ]
  },
  {
   "cell_type": "code",
   "execution_count": 16,
   "id": "3170075d",
   "metadata": {
    "ExecuteTime": {
     "end_time": "2024-03-08T17:02:35.030343Z",
     "start_time": "2024-03-08T17:02:35.023858Z"
    }
   },
   "outputs": [],
   "source": [
    "# Model deployment"
   ]
  },
  {
   "cell_type": "code",
   "execution_count": 31,
   "id": "9b728482",
   "metadata": {
    "ExecuteTime": {
     "end_time": "2024-03-11T06:35:51.601350Z",
     "start_time": "2024-03-11T06:35:51.584654Z"
    }
   },
   "outputs": [],
   "source": [
    "fileName = \"hotelPriceModel.sav\"\n",
    "pickle.dump(regressor,open(fileName, 'wb'))"
   ]
  },
  {
   "cell_type": "code",
   "execution_count": 32,
   "id": "0115826f",
   "metadata": {
    "ExecuteTime": {
     "end_time": "2024-03-11T06:36:15.331073Z",
     "start_time": "2024-03-11T06:36:15.292224Z"
    }
   },
   "outputs": [],
   "source": [
    "loadModel = pickle.load(open(\"hotelPriceModel.sav\", \"rb\"))\n",
    "result = loadModel.predict(userInput)\n",
    "result = result[0]"
   ]
  },
  {
   "cell_type": "code",
   "execution_count": 33,
   "id": "8c1ca6c6",
   "metadata": {
    "ExecuteTime": {
     "end_time": "2024-03-11T06:36:21.629650Z",
     "start_time": "2024-03-11T06:36:21.610456Z"
    }
   },
   "outputs": [],
   "source": [
    "# mean of adr column\n",
    "mean = dataSet['adr'].mean()\n",
    "# std of adr column\n",
    "stdOFAdr = dataSet['adr'].std()"
   ]
  },
  {
   "cell_type": "code",
   "execution_count": 34,
   "id": "b4d89625",
   "metadata": {
    "ExecuteTime": {
     "end_time": "2024-03-11T06:36:22.471771Z",
     "start_time": "2024-03-11T06:36:22.454114Z"
    }
   },
   "outputs": [],
   "source": [
    "# standar scaler convert to numerical value\n",
    "original_data = (result * stdOFAdr + mean)"
   ]
  },
  {
   "cell_type": "code",
   "execution_count": 37,
   "id": "44c6e861",
   "metadata": {
    "ExecuteTime": {
     "end_time": "2024-03-11T06:36:57.605648Z",
     "start_time": "2024-03-11T06:36:57.599933Z"
    }
   },
   "outputs": [
    {
     "name": "stdout",
     "output_type": "stream",
     "text": [
      "usd: 278\n"
     ]
    }
   ],
   "source": [
    "print(\"usd:\",int(original_data))"
   ]
  },
  {
   "cell_type": "code",
   "execution_count": null,
   "id": "e5e13e4b",
   "metadata": {
    "ExecuteTime": {
     "end_time": "2024-03-08T17:31:56.512622Z",
     "start_time": "2024-03-08T17:31:56.498713Z"
    }
   },
   "outputs": [],
   "source": []
  }
 ],
 "metadata": {
  "hide_input": false,
  "kernelspec": {
   "display_name": "Python 3 (ipykernel)",
   "language": "python",
   "name": "python3"
  },
  "language_info": {
   "codemirror_mode": {
    "name": "ipython",
    "version": 3
   },
   "file_extension": ".py",
   "mimetype": "text/x-python",
   "name": "python",
   "nbconvert_exporter": "python",
   "pygments_lexer": "ipython3",
   "version": "3.12.4"
  },
  "toc": {
   "base_numbering": 1,
   "nav_menu": {},
   "number_sections": true,
   "sideBar": true,
   "skip_h1_title": false,
   "title_cell": "Table of Contents",
   "title_sidebar": "Contents",
   "toc_cell": false,
   "toc_position": {},
   "toc_section_display": true,
   "toc_window_display": false
  }
 },
 "nbformat": 4,
 "nbformat_minor": 5
}
