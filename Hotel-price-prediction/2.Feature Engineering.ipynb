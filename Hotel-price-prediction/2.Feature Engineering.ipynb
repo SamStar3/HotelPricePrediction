{
 "cells": [
  {
   "cell_type": "markdown",
   "id": "93c4c2c5",
   "metadata": {},
   "source": [
    "# House price Prediction - Feature Engineering"
   ]
  },
  {
   "cell_type": "markdown",
   "id": "05a4700d",
   "metadata": {
    "ExecuteTime": {
     "end_time": "2024-03-01T16:23:46.106193Z",
     "start_time": "2024-03-01T16:23:46.087336Z"
    }
   },
   "source": [
    "The main aim of this project is to predict the hotel room price based on various features"
   ]
  },
  {
   "cell_type": "markdown",
   "id": "4a119826",
   "metadata": {
    "ExecuteTime": {
     "end_time": "2024-03-01T16:24:00.687838Z",
     "start_time": "2024-03-01T16:24:00.667614Z"
    }
   },
   "source": [
    "Dataset to downloaded from the below link"
   ]
  },
  {
   "cell_type": "markdown",
   "id": "92a5c0ae",
   "metadata": {},
   "source": [
    "https://www.kaggle.com/datasets/jessemostipak/hotel-booking-demand/data\n"
   ]
  },
  {
   "cell_type": "markdown",
   "id": "28d42609",
   "metadata": {},
   "source": [
    "    In the feature engineering part, I:\n",
    "\n",
    "    Impute missing values\n",
    "    Outliers\n",
    "    modify the columns\n",
    "    Temporal variables\n",
    "    Manage categorical variables"
   ]
  },
  {
   "cell_type": "code",
   "execution_count": 1,
   "id": "e82fe707",
   "metadata": {
    "ExecuteTime": {
     "end_time": "2024-03-04T18:47:29.550939Z",
     "start_time": "2024-03-04T18:47:26.608149Z"
    }
   },
   "outputs": [],
   "source": [
    "# import the package\n",
    "import pandas as pd\n",
    "import numpy as np\n",
    "import matplotlib.pyplot as plt\n",
    "import seaborn as sns\n",
    "from scipy import stats\n",
    "\n",
    "from scipy.stats import yeojohnson, skew, boxcox \n",
    "from sklearn.preprocessing import LabelEncoder"
   ]
  },
  {
   "cell_type": "code",
   "execution_count": 2,
   "id": "ff142130",
   "metadata": {
    "ExecuteTime": {
     "end_time": "2024-03-04T18:47:29.938011Z",
     "start_time": "2024-03-04T18:47:29.552400Z"
    }
   },
   "outputs": [],
   "source": [
    "# import the dataSet \n",
    "dataSet = pd.read_csv('hotel_bookings.csv')"
   ]
  },
  {
   "cell_type": "code",
   "execution_count": 3,
   "id": "96fa35be",
   "metadata": {
    "ExecuteTime": {
     "end_time": "2024-03-04T18:47:29.985635Z",
     "start_time": "2024-03-04T18:47:29.941977Z"
    }
   },
   "outputs": [
    {
     "data": {
      "text/html": [
       "<div>\n",
       "<style scoped>\n",
       "    .dataframe tbody tr th:only-of-type {\n",
       "        vertical-align: middle;\n",
       "    }\n",
       "\n",
       "    .dataframe tbody tr th {\n",
       "        vertical-align: top;\n",
       "    }\n",
       "\n",
       "    .dataframe thead th {\n",
       "        text-align: right;\n",
       "    }\n",
       "</style>\n",
       "<table border=\"1\" class=\"dataframe\">\n",
       "  <thead>\n",
       "    <tr style=\"text-align: right;\">\n",
       "      <th></th>\n",
       "      <th>hotel</th>\n",
       "      <th>is_canceled</th>\n",
       "      <th>lead_time</th>\n",
       "      <th>arrival_date_year</th>\n",
       "      <th>arrival_date_month</th>\n",
       "      <th>arrival_date_week_number</th>\n",
       "      <th>arrival_date_day_of_month</th>\n",
       "      <th>stays_in_weekend_nights</th>\n",
       "      <th>stays_in_week_nights</th>\n",
       "      <th>adults</th>\n",
       "      <th>...</th>\n",
       "      <th>deposit_type</th>\n",
       "      <th>agent</th>\n",
       "      <th>company</th>\n",
       "      <th>days_in_waiting_list</th>\n",
       "      <th>customer_type</th>\n",
       "      <th>adr</th>\n",
       "      <th>required_car_parking_spaces</th>\n",
       "      <th>total_of_special_requests</th>\n",
       "      <th>reservation_status</th>\n",
       "      <th>reservation_status_date</th>\n",
       "    </tr>\n",
       "  </thead>\n",
       "  <tbody>\n",
       "    <tr>\n",
       "      <th>0</th>\n",
       "      <td>Resort Hotel</td>\n",
       "      <td>0</td>\n",
       "      <td>342</td>\n",
       "      <td>2015</td>\n",
       "      <td>July</td>\n",
       "      <td>27</td>\n",
       "      <td>1</td>\n",
       "      <td>0</td>\n",
       "      <td>0</td>\n",
       "      <td>2</td>\n",
       "      <td>...</td>\n",
       "      <td>No Deposit</td>\n",
       "      <td>NaN</td>\n",
       "      <td>NaN</td>\n",
       "      <td>0</td>\n",
       "      <td>Transient</td>\n",
       "      <td>0.0</td>\n",
       "      <td>0</td>\n",
       "      <td>0</td>\n",
       "      <td>Check-Out</td>\n",
       "      <td>2015-07-01</td>\n",
       "    </tr>\n",
       "    <tr>\n",
       "      <th>1</th>\n",
       "      <td>Resort Hotel</td>\n",
       "      <td>0</td>\n",
       "      <td>737</td>\n",
       "      <td>2015</td>\n",
       "      <td>July</td>\n",
       "      <td>27</td>\n",
       "      <td>1</td>\n",
       "      <td>0</td>\n",
       "      <td>0</td>\n",
       "      <td>2</td>\n",
       "      <td>...</td>\n",
       "      <td>No Deposit</td>\n",
       "      <td>NaN</td>\n",
       "      <td>NaN</td>\n",
       "      <td>0</td>\n",
       "      <td>Transient</td>\n",
       "      <td>0.0</td>\n",
       "      <td>0</td>\n",
       "      <td>0</td>\n",
       "      <td>Check-Out</td>\n",
       "      <td>2015-07-01</td>\n",
       "    </tr>\n",
       "    <tr>\n",
       "      <th>2</th>\n",
       "      <td>Resort Hotel</td>\n",
       "      <td>0</td>\n",
       "      <td>7</td>\n",
       "      <td>2015</td>\n",
       "      <td>July</td>\n",
       "      <td>27</td>\n",
       "      <td>1</td>\n",
       "      <td>0</td>\n",
       "      <td>1</td>\n",
       "      <td>1</td>\n",
       "      <td>...</td>\n",
       "      <td>No Deposit</td>\n",
       "      <td>NaN</td>\n",
       "      <td>NaN</td>\n",
       "      <td>0</td>\n",
       "      <td>Transient</td>\n",
       "      <td>75.0</td>\n",
       "      <td>0</td>\n",
       "      <td>0</td>\n",
       "      <td>Check-Out</td>\n",
       "      <td>2015-07-02</td>\n",
       "    </tr>\n",
       "    <tr>\n",
       "      <th>3</th>\n",
       "      <td>Resort Hotel</td>\n",
       "      <td>0</td>\n",
       "      <td>13</td>\n",
       "      <td>2015</td>\n",
       "      <td>July</td>\n",
       "      <td>27</td>\n",
       "      <td>1</td>\n",
       "      <td>0</td>\n",
       "      <td>1</td>\n",
       "      <td>1</td>\n",
       "      <td>...</td>\n",
       "      <td>No Deposit</td>\n",
       "      <td>304.0</td>\n",
       "      <td>NaN</td>\n",
       "      <td>0</td>\n",
       "      <td>Transient</td>\n",
       "      <td>75.0</td>\n",
       "      <td>0</td>\n",
       "      <td>0</td>\n",
       "      <td>Check-Out</td>\n",
       "      <td>2015-07-02</td>\n",
       "    </tr>\n",
       "    <tr>\n",
       "      <th>4</th>\n",
       "      <td>Resort Hotel</td>\n",
       "      <td>0</td>\n",
       "      <td>14</td>\n",
       "      <td>2015</td>\n",
       "      <td>July</td>\n",
       "      <td>27</td>\n",
       "      <td>1</td>\n",
       "      <td>0</td>\n",
       "      <td>2</td>\n",
       "      <td>2</td>\n",
       "      <td>...</td>\n",
       "      <td>No Deposit</td>\n",
       "      <td>240.0</td>\n",
       "      <td>NaN</td>\n",
       "      <td>0</td>\n",
       "      <td>Transient</td>\n",
       "      <td>98.0</td>\n",
       "      <td>0</td>\n",
       "      <td>1</td>\n",
       "      <td>Check-Out</td>\n",
       "      <td>2015-07-03</td>\n",
       "    </tr>\n",
       "  </tbody>\n",
       "</table>\n",
       "<p>5 rows × 32 columns</p>\n",
       "</div>"
      ],
      "text/plain": [
       "          hotel  is_canceled  lead_time  arrival_date_year arrival_date_month  \\\n",
       "0  Resort Hotel            0        342               2015               July   \n",
       "1  Resort Hotel            0        737               2015               July   \n",
       "2  Resort Hotel            0          7               2015               July   \n",
       "3  Resort Hotel            0         13               2015               July   \n",
       "4  Resort Hotel            0         14               2015               July   \n",
       "\n",
       "   arrival_date_week_number  arrival_date_day_of_month  \\\n",
       "0                        27                          1   \n",
       "1                        27                          1   \n",
       "2                        27                          1   \n",
       "3                        27                          1   \n",
       "4                        27                          1   \n",
       "\n",
       "   stays_in_weekend_nights  stays_in_week_nights  adults  ...  deposit_type  \\\n",
       "0                        0                     0       2  ...    No Deposit   \n",
       "1                        0                     0       2  ...    No Deposit   \n",
       "2                        0                     1       1  ...    No Deposit   \n",
       "3                        0                     1       1  ...    No Deposit   \n",
       "4                        0                     2       2  ...    No Deposit   \n",
       "\n",
       "   agent company days_in_waiting_list customer_type   adr  \\\n",
       "0    NaN     NaN                    0     Transient   0.0   \n",
       "1    NaN     NaN                    0     Transient   0.0   \n",
       "2    NaN     NaN                    0     Transient  75.0   \n",
       "3  304.0     NaN                    0     Transient  75.0   \n",
       "4  240.0     NaN                    0     Transient  98.0   \n",
       "\n",
       "   required_car_parking_spaces  total_of_special_requests  reservation_status  \\\n",
       "0                            0                          0           Check-Out   \n",
       "1                            0                          0           Check-Out   \n",
       "2                            0                          0           Check-Out   \n",
       "3                            0                          0           Check-Out   \n",
       "4                            0                          1           Check-Out   \n",
       "\n",
       "  reservation_status_date  \n",
       "0              2015-07-01  \n",
       "1              2015-07-01  \n",
       "2              2015-07-02  \n",
       "3              2015-07-02  \n",
       "4              2015-07-03  \n",
       "\n",
       "[5 rows x 32 columns]"
      ]
     },
     "execution_count": 3,
     "metadata": {},
     "output_type": "execute_result"
    }
   ],
   "source": [
    "dataSet.head()"
   ]
  },
  {
   "cell_type": "code",
   "execution_count": 4,
   "id": "7f9290fb",
   "metadata": {
    "ExecuteTime": {
     "end_time": "2024-03-04T18:47:30.001973Z",
     "start_time": "2024-03-04T18:47:29.988631Z"
    }
   },
   "outputs": [
    {
     "data": {
      "text/plain": [
       "(119390, 32)"
      ]
     },
     "execution_count": 4,
     "metadata": {},
     "output_type": "execute_result"
    }
   ],
   "source": [
    "# There having 119390 rows and 32 columns\n",
    "dataSet.shape"
   ]
  },
  {
   "cell_type": "code",
   "execution_count": 5,
   "id": "d96766a9",
   "metadata": {
    "ExecuteTime": {
     "end_time": "2024-03-04T18:47:30.032045Z",
     "start_time": "2024-03-04T18:47:30.003536Z"
    }
   },
   "outputs": [],
   "source": [
    "df = dataSet.copy()"
   ]
  },
  {
   "cell_type": "code",
   "execution_count": 6,
   "id": "4fd3650c",
   "metadata": {
    "ExecuteTime": {
     "end_time": "2024-03-04T18:47:30.219910Z",
     "start_time": "2024-03-04T18:47:30.035667Z"
    }
   },
   "outputs": [
    {
     "data": {
      "text/plain": [
       "(31994, 32)"
      ]
     },
     "execution_count": 6,
     "metadata": {},
     "output_type": "execute_result"
    }
   ],
   "source": [
    "# Totally 31994 dublicate rows in the dataSet\n",
    "df[df.duplicated()].shape"
   ]
  },
  {
   "cell_type": "code",
   "execution_count": 7,
   "id": "c3f4f526",
   "metadata": {
    "ExecuteTime": {
     "end_time": "2024-03-04T18:47:30.404959Z",
     "start_time": "2024-03-04T18:47:30.222419Z"
    }
   },
   "outputs": [
    {
     "data": {
      "text/plain": [
       "(87396, 32)"
      ]
     },
     "execution_count": 7,
     "metadata": {},
     "output_type": "execute_result"
    }
   ],
   "source": [
    "# I droped the dublicate values in the dataSet\n",
    "df.drop_duplicates(inplace= True)\n",
    "df.shape"
   ]
  },
  {
   "cell_type": "markdown",
   "id": "732b28dd",
   "metadata": {},
   "source": [
    "# Missing values"
   ]
  },
  {
   "cell_type": "code",
   "execution_count": 8,
   "id": "772c858a",
   "metadata": {
    "ExecuteTime": {
     "end_time": "2024-03-04T18:47:30.468046Z",
     "start_time": "2024-03-04T18:47:30.406694Z"
    }
   },
   "outputs": [
    {
     "data": {
      "text/html": [
       "<div>\n",
       "<style scoped>\n",
       "    .dataframe tbody tr th:only-of-type {\n",
       "        vertical-align: middle;\n",
       "    }\n",
       "\n",
       "    .dataframe tbody tr th {\n",
       "        vertical-align: top;\n",
       "    }\n",
       "\n",
       "    .dataframe thead th {\n",
       "        text-align: right;\n",
       "    }\n",
       "</style>\n",
       "<table border=\"1\" class=\"dataframe\">\n",
       "  <thead>\n",
       "    <tr style=\"text-align: right;\">\n",
       "      <th></th>\n",
       "      <th>0</th>\n",
       "    </tr>\n",
       "  </thead>\n",
       "  <tbody>\n",
       "    <tr>\n",
       "      <th>company</th>\n",
       "      <td>82137</td>\n",
       "    </tr>\n",
       "    <tr>\n",
       "      <th>agent</th>\n",
       "      <td>12193</td>\n",
       "    </tr>\n",
       "    <tr>\n",
       "      <th>country</th>\n",
       "      <td>452</td>\n",
       "    </tr>\n",
       "    <tr>\n",
       "      <th>children</th>\n",
       "      <td>4</td>\n",
       "    </tr>\n",
       "  </tbody>\n",
       "</table>\n",
       "</div>"
      ],
      "text/plain": [
       "              0\n",
       "company   82137\n",
       "agent     12193\n",
       "country     452\n",
       "children      4"
      ]
     },
     "execution_count": 8,
     "metadata": {},
     "output_type": "execute_result"
    }
   ],
   "source": [
    "# In these four columns, missing values are present.\n",
    "\n",
    "pd.DataFrame(df.isna().sum().sort_values(ascending = False)).head(4) "
   ]
  },
  {
   "cell_type": "code",
   "execution_count": 9,
   "id": "1c3c81bf",
   "metadata": {
    "ExecuteTime": {
     "end_time": "2024-03-04T18:47:30.483250Z",
     "start_time": "2024-03-04T18:47:30.469090Z"
    }
   },
   "outputs": [],
   "source": [
    "# children\n",
    "# observation of the data has no children, so I put 0\n",
    "df['children'].fillna(0, inplace=True)"
   ]
  },
  {
   "cell_type": "code",
   "execution_count": 10,
   "id": "cb168359",
   "metadata": {
    "ExecuteTime": {
     "end_time": "2024-03-04T18:47:30.514808Z",
     "start_time": "2024-03-04T18:47:30.487935Z"
    }
   },
   "outputs": [],
   "source": [
    "# company\n",
    "# The company columns have 0.9431% of data as NaN, so I will drop the column\n",
    "df.drop(columns='company', inplace=True)"
   ]
  },
  {
   "cell_type": "code",
   "execution_count": 11,
   "id": "853140d6",
   "metadata": {
    "ExecuteTime": {
     "end_time": "2024-03-04T18:47:30.576224Z",
     "start_time": "2024-03-04T18:47:30.517104Z"
    }
   },
   "outputs": [],
   "source": [
    "# In the 'agent' column, I replace the median value of the missing data\n",
    "\n",
    "df.fillna(df[\"agent\"].median(),inplace=True)"
   ]
  },
  {
   "cell_type": "code",
   "execution_count": 12,
   "id": "1de0f153",
   "metadata": {
    "ExecuteTime": {
     "end_time": "2024-03-04T18:47:30.591607Z",
     "start_time": "2024-03-04T18:47:30.580463Z"
    }
   },
   "outputs": [
    {
     "data": {
      "text/plain": [
       "(87396, 31)"
      ]
     },
     "execution_count": 12,
     "metadata": {},
     "output_type": "execute_result"
    }
   ],
   "source": [
    "df.shape"
   ]
  },
  {
   "cell_type": "code",
   "execution_count": 13,
   "id": "3f69ff83",
   "metadata": {
    "ExecuteTime": {
     "end_time": "2024-03-04T18:47:30.653444Z",
     "start_time": "2024-03-04T18:47:30.595019Z"
    }
   },
   "outputs": [
    {
     "data": {
      "text/html": [
       "<div>\n",
       "<style scoped>\n",
       "    .dataframe tbody tr th:only-of-type {\n",
       "        vertical-align: middle;\n",
       "    }\n",
       "\n",
       "    .dataframe tbody tr th {\n",
       "        vertical-align: top;\n",
       "    }\n",
       "\n",
       "    .dataframe thead th {\n",
       "        text-align: right;\n",
       "    }\n",
       "</style>\n",
       "<table border=\"1\" class=\"dataframe\">\n",
       "  <thead>\n",
       "    <tr style=\"text-align: right;\">\n",
       "      <th></th>\n",
       "      <th>0</th>\n",
       "    </tr>\n",
       "  </thead>\n",
       "  <tbody>\n",
       "    <tr>\n",
       "      <th>hotel</th>\n",
       "      <td>0</td>\n",
       "    </tr>\n",
       "    <tr>\n",
       "      <th>is_repeated_guest</th>\n",
       "      <td>0</td>\n",
       "    </tr>\n",
       "    <tr>\n",
       "      <th>reservation_status</th>\n",
       "      <td>0</td>\n",
       "    </tr>\n",
       "    <tr>\n",
       "      <th>total_of_special_requests</th>\n",
       "      <td>0</td>\n",
       "    </tr>\n",
       "  </tbody>\n",
       "</table>\n",
       "</div>"
      ],
      "text/plain": [
       "                           0\n",
       "hotel                      0\n",
       "is_repeated_guest          0\n",
       "reservation_status         0\n",
       "total_of_special_requests  0"
      ]
     },
     "execution_count": 13,
     "metadata": {},
     "output_type": "execute_result"
    }
   ],
   "source": [
    "# finally, there is no missing values in the observation\n",
    "\n",
    "pd.DataFrame(df.isna().sum().sort_values(ascending = False)).head(4) "
   ]
  },
  {
   "cell_type": "code",
   "execution_count": 14,
   "id": "35b74993",
   "metadata": {
    "ExecuteTime": {
     "end_time": "2024-03-04T18:47:30.699689Z",
     "start_time": "2024-03-04T18:47:30.655440Z"
    },
    "scrolled": false
   },
   "outputs": [
    {
     "data": {
      "text/html": [
       "<div>\n",
       "<style scoped>\n",
       "    .dataframe tbody tr th:only-of-type {\n",
       "        vertical-align: middle;\n",
       "    }\n",
       "\n",
       "    .dataframe tbody tr th {\n",
       "        vertical-align: top;\n",
       "    }\n",
       "\n",
       "    .dataframe thead th {\n",
       "        text-align: right;\n",
       "    }\n",
       "</style>\n",
       "<table border=\"1\" class=\"dataframe\">\n",
       "  <thead>\n",
       "    <tr style=\"text-align: right;\">\n",
       "      <th></th>\n",
       "      <th>hotel</th>\n",
       "      <th>is_canceled</th>\n",
       "      <th>lead_time</th>\n",
       "      <th>arrival_date_year</th>\n",
       "      <th>arrival_date_month</th>\n",
       "      <th>arrival_date_week_number</th>\n",
       "      <th>arrival_date_day_of_month</th>\n",
       "      <th>stays_in_weekend_nights</th>\n",
       "      <th>stays_in_week_nights</th>\n",
       "      <th>adults</th>\n",
       "      <th>...</th>\n",
       "      <th>booking_changes</th>\n",
       "      <th>deposit_type</th>\n",
       "      <th>agent</th>\n",
       "      <th>days_in_waiting_list</th>\n",
       "      <th>customer_type</th>\n",
       "      <th>adr</th>\n",
       "      <th>required_car_parking_spaces</th>\n",
       "      <th>total_of_special_requests</th>\n",
       "      <th>reservation_status</th>\n",
       "      <th>reservation_status_date</th>\n",
       "    </tr>\n",
       "  </thead>\n",
       "  <tbody>\n",
       "    <tr>\n",
       "      <th>0</th>\n",
       "      <td>Resort Hotel</td>\n",
       "      <td>0</td>\n",
       "      <td>342</td>\n",
       "      <td>2015</td>\n",
       "      <td>July</td>\n",
       "      <td>27</td>\n",
       "      <td>1</td>\n",
       "      <td>0</td>\n",
       "      <td>0</td>\n",
       "      <td>2</td>\n",
       "      <td>...</td>\n",
       "      <td>3</td>\n",
       "      <td>No Deposit</td>\n",
       "      <td>14.0</td>\n",
       "      <td>0</td>\n",
       "      <td>Transient</td>\n",
       "      <td>0.0</td>\n",
       "      <td>0</td>\n",
       "      <td>0</td>\n",
       "      <td>Check-Out</td>\n",
       "      <td>2015-07-01</td>\n",
       "    </tr>\n",
       "    <tr>\n",
       "      <th>1</th>\n",
       "      <td>Resort Hotel</td>\n",
       "      <td>0</td>\n",
       "      <td>737</td>\n",
       "      <td>2015</td>\n",
       "      <td>July</td>\n",
       "      <td>27</td>\n",
       "      <td>1</td>\n",
       "      <td>0</td>\n",
       "      <td>0</td>\n",
       "      <td>2</td>\n",
       "      <td>...</td>\n",
       "      <td>4</td>\n",
       "      <td>No Deposit</td>\n",
       "      <td>14.0</td>\n",
       "      <td>0</td>\n",
       "      <td>Transient</td>\n",
       "      <td>0.0</td>\n",
       "      <td>0</td>\n",
       "      <td>0</td>\n",
       "      <td>Check-Out</td>\n",
       "      <td>2015-07-01</td>\n",
       "    </tr>\n",
       "    <tr>\n",
       "      <th>2</th>\n",
       "      <td>Resort Hotel</td>\n",
       "      <td>0</td>\n",
       "      <td>7</td>\n",
       "      <td>2015</td>\n",
       "      <td>July</td>\n",
       "      <td>27</td>\n",
       "      <td>1</td>\n",
       "      <td>0</td>\n",
       "      <td>1</td>\n",
       "      <td>1</td>\n",
       "      <td>...</td>\n",
       "      <td>0</td>\n",
       "      <td>No Deposit</td>\n",
       "      <td>14.0</td>\n",
       "      <td>0</td>\n",
       "      <td>Transient</td>\n",
       "      <td>75.0</td>\n",
       "      <td>0</td>\n",
       "      <td>0</td>\n",
       "      <td>Check-Out</td>\n",
       "      <td>2015-07-02</td>\n",
       "    </tr>\n",
       "    <tr>\n",
       "      <th>3</th>\n",
       "      <td>Resort Hotel</td>\n",
       "      <td>0</td>\n",
       "      <td>13</td>\n",
       "      <td>2015</td>\n",
       "      <td>July</td>\n",
       "      <td>27</td>\n",
       "      <td>1</td>\n",
       "      <td>0</td>\n",
       "      <td>1</td>\n",
       "      <td>1</td>\n",
       "      <td>...</td>\n",
       "      <td>0</td>\n",
       "      <td>No Deposit</td>\n",
       "      <td>304.0</td>\n",
       "      <td>0</td>\n",
       "      <td>Transient</td>\n",
       "      <td>75.0</td>\n",
       "      <td>0</td>\n",
       "      <td>0</td>\n",
       "      <td>Check-Out</td>\n",
       "      <td>2015-07-02</td>\n",
       "    </tr>\n",
       "    <tr>\n",
       "      <th>4</th>\n",
       "      <td>Resort Hotel</td>\n",
       "      <td>0</td>\n",
       "      <td>14</td>\n",
       "      <td>2015</td>\n",
       "      <td>July</td>\n",
       "      <td>27</td>\n",
       "      <td>1</td>\n",
       "      <td>0</td>\n",
       "      <td>2</td>\n",
       "      <td>2</td>\n",
       "      <td>...</td>\n",
       "      <td>0</td>\n",
       "      <td>No Deposit</td>\n",
       "      <td>240.0</td>\n",
       "      <td>0</td>\n",
       "      <td>Transient</td>\n",
       "      <td>98.0</td>\n",
       "      <td>0</td>\n",
       "      <td>1</td>\n",
       "      <td>Check-Out</td>\n",
       "      <td>2015-07-03</td>\n",
       "    </tr>\n",
       "  </tbody>\n",
       "</table>\n",
       "<p>5 rows × 31 columns</p>\n",
       "</div>"
      ],
      "text/plain": [
       "          hotel  is_canceled  lead_time  arrival_date_year arrival_date_month  \\\n",
       "0  Resort Hotel            0        342               2015               July   \n",
       "1  Resort Hotel            0        737               2015               July   \n",
       "2  Resort Hotel            0          7               2015               July   \n",
       "3  Resort Hotel            0         13               2015               July   \n",
       "4  Resort Hotel            0         14               2015               July   \n",
       "\n",
       "   arrival_date_week_number  arrival_date_day_of_month  \\\n",
       "0                        27                          1   \n",
       "1                        27                          1   \n",
       "2                        27                          1   \n",
       "3                        27                          1   \n",
       "4                        27                          1   \n",
       "\n",
       "   stays_in_weekend_nights  stays_in_week_nights  adults  ...  \\\n",
       "0                        0                     0       2  ...   \n",
       "1                        0                     0       2  ...   \n",
       "2                        0                     1       1  ...   \n",
       "3                        0                     1       1  ...   \n",
       "4                        0                     2       2  ...   \n",
       "\n",
       "   booking_changes  deposit_type  agent days_in_waiting_list customer_type  \\\n",
       "0                3    No Deposit   14.0                    0     Transient   \n",
       "1                4    No Deposit   14.0                    0     Transient   \n",
       "2                0    No Deposit   14.0                    0     Transient   \n",
       "3                0    No Deposit  304.0                    0     Transient   \n",
       "4                0    No Deposit  240.0                    0     Transient   \n",
       "\n",
       "    adr  required_car_parking_spaces  total_of_special_requests  \\\n",
       "0   0.0                            0                          0   \n",
       "1   0.0                            0                          0   \n",
       "2  75.0                            0                          0   \n",
       "3  75.0                            0                          0   \n",
       "4  98.0                            0                          1   \n",
       "\n",
       "   reservation_status reservation_status_date  \n",
       "0           Check-Out              2015-07-01  \n",
       "1           Check-Out              2015-07-01  \n",
       "2           Check-Out              2015-07-02  \n",
       "3           Check-Out              2015-07-02  \n",
       "4           Check-Out              2015-07-03  \n",
       "\n",
       "[5 rows x 31 columns]"
      ]
     },
     "execution_count": 14,
     "metadata": {},
     "output_type": "execute_result"
    }
   ],
   "source": [
    "df.head()"
   ]
  },
  {
   "cell_type": "markdown",
   "id": "81bf1639",
   "metadata": {},
   "source": [
    "# Outliers"
   ]
  },
  {
   "cell_type": "code",
   "execution_count": 15,
   "id": "076154cf",
   "metadata": {
    "ExecuteTime": {
     "end_time": "2024-03-04T18:47:30.839895Z",
     "start_time": "2024-03-04T18:47:30.705055Z"
    }
   },
   "outputs": [
    {
     "data": {
      "text/html": [
       "<div>\n",
       "<style scoped>\n",
       "    .dataframe tbody tr th:only-of-type {\n",
       "        vertical-align: middle;\n",
       "    }\n",
       "\n",
       "    .dataframe tbody tr th {\n",
       "        vertical-align: top;\n",
       "    }\n",
       "\n",
       "    .dataframe thead th {\n",
       "        text-align: right;\n",
       "    }\n",
       "</style>\n",
       "<table border=\"1\" class=\"dataframe\">\n",
       "  <thead>\n",
       "    <tr style=\"text-align: right;\">\n",
       "      <th></th>\n",
       "      <th>count</th>\n",
       "      <th>mean</th>\n",
       "      <th>std</th>\n",
       "      <th>min</th>\n",
       "      <th>25%</th>\n",
       "      <th>50%</th>\n",
       "      <th>75%</th>\n",
       "      <th>max</th>\n",
       "    </tr>\n",
       "  </thead>\n",
       "  <tbody>\n",
       "    <tr>\n",
       "      <th>is_canceled</th>\n",
       "      <td>87396.0</td>\n",
       "      <td>0.274898</td>\n",
       "      <td>0.446466</td>\n",
       "      <td>0.00</td>\n",
       "      <td>0.0</td>\n",
       "      <td>0.0</td>\n",
       "      <td>1.0</td>\n",
       "      <td>1.0</td>\n",
       "    </tr>\n",
       "    <tr>\n",
       "      <th>lead_time</th>\n",
       "      <td>87396.0</td>\n",
       "      <td>79.891368</td>\n",
       "      <td>86.052325</td>\n",
       "      <td>0.00</td>\n",
       "      <td>11.0</td>\n",
       "      <td>49.0</td>\n",
       "      <td>125.0</td>\n",
       "      <td>737.0</td>\n",
       "    </tr>\n",
       "    <tr>\n",
       "      <th>arrival_date_year</th>\n",
       "      <td>87396.0</td>\n",
       "      <td>2016.210296</td>\n",
       "      <td>0.686102</td>\n",
       "      <td>2015.00</td>\n",
       "      <td>2016.0</td>\n",
       "      <td>2016.0</td>\n",
       "      <td>2017.0</td>\n",
       "      <td>2017.0</td>\n",
       "    </tr>\n",
       "    <tr>\n",
       "      <th>arrival_date_week_number</th>\n",
       "      <td>87396.0</td>\n",
       "      <td>26.838334</td>\n",
       "      <td>13.674572</td>\n",
       "      <td>1.00</td>\n",
       "      <td>16.0</td>\n",
       "      <td>27.0</td>\n",
       "      <td>37.0</td>\n",
       "      <td>53.0</td>\n",
       "    </tr>\n",
       "    <tr>\n",
       "      <th>arrival_date_day_of_month</th>\n",
       "      <td>87396.0</td>\n",
       "      <td>15.815541</td>\n",
       "      <td>8.835146</td>\n",
       "      <td>1.00</td>\n",
       "      <td>8.0</td>\n",
       "      <td>16.0</td>\n",
       "      <td>23.0</td>\n",
       "      <td>31.0</td>\n",
       "    </tr>\n",
       "    <tr>\n",
       "      <th>stays_in_weekend_nights</th>\n",
       "      <td>87396.0</td>\n",
       "      <td>1.005263</td>\n",
       "      <td>1.031921</td>\n",
       "      <td>0.00</td>\n",
       "      <td>0.0</td>\n",
       "      <td>1.0</td>\n",
       "      <td>2.0</td>\n",
       "      <td>19.0</td>\n",
       "    </tr>\n",
       "    <tr>\n",
       "      <th>stays_in_week_nights</th>\n",
       "      <td>87396.0</td>\n",
       "      <td>2.625395</td>\n",
       "      <td>2.053584</td>\n",
       "      <td>0.00</td>\n",
       "      <td>1.0</td>\n",
       "      <td>2.0</td>\n",
       "      <td>4.0</td>\n",
       "      <td>50.0</td>\n",
       "    </tr>\n",
       "    <tr>\n",
       "      <th>adults</th>\n",
       "      <td>87396.0</td>\n",
       "      <td>1.875795</td>\n",
       "      <td>0.626500</td>\n",
       "      <td>0.00</td>\n",
       "      <td>2.0</td>\n",
       "      <td>2.0</td>\n",
       "      <td>2.0</td>\n",
       "      <td>55.0</td>\n",
       "    </tr>\n",
       "    <tr>\n",
       "      <th>children</th>\n",
       "      <td>87396.0</td>\n",
       "      <td>0.138633</td>\n",
       "      <td>0.455871</td>\n",
       "      <td>0.00</td>\n",
       "      <td>0.0</td>\n",
       "      <td>0.0</td>\n",
       "      <td>0.0</td>\n",
       "      <td>10.0</td>\n",
       "    </tr>\n",
       "    <tr>\n",
       "      <th>babies</th>\n",
       "      <td>87396.0</td>\n",
       "      <td>0.010824</td>\n",
       "      <td>0.113597</td>\n",
       "      <td>0.00</td>\n",
       "      <td>0.0</td>\n",
       "      <td>0.0</td>\n",
       "      <td>0.0</td>\n",
       "      <td>10.0</td>\n",
       "    </tr>\n",
       "    <tr>\n",
       "      <th>is_repeated_guest</th>\n",
       "      <td>87396.0</td>\n",
       "      <td>0.039075</td>\n",
       "      <td>0.193775</td>\n",
       "      <td>0.00</td>\n",
       "      <td>0.0</td>\n",
       "      <td>0.0</td>\n",
       "      <td>0.0</td>\n",
       "      <td>1.0</td>\n",
       "    </tr>\n",
       "    <tr>\n",
       "      <th>previous_cancellations</th>\n",
       "      <td>87396.0</td>\n",
       "      <td>0.030413</td>\n",
       "      <td>0.369145</td>\n",
       "      <td>0.00</td>\n",
       "      <td>0.0</td>\n",
       "      <td>0.0</td>\n",
       "      <td>0.0</td>\n",
       "      <td>26.0</td>\n",
       "    </tr>\n",
       "    <tr>\n",
       "      <th>previous_bookings_not_canceled</th>\n",
       "      <td>87396.0</td>\n",
       "      <td>0.183990</td>\n",
       "      <td>1.731894</td>\n",
       "      <td>0.00</td>\n",
       "      <td>0.0</td>\n",
       "      <td>0.0</td>\n",
       "      <td>0.0</td>\n",
       "      <td>72.0</td>\n",
       "    </tr>\n",
       "    <tr>\n",
       "      <th>booking_changes</th>\n",
       "      <td>87396.0</td>\n",
       "      <td>0.271603</td>\n",
       "      <td>0.727245</td>\n",
       "      <td>0.00</td>\n",
       "      <td>0.0</td>\n",
       "      <td>0.0</td>\n",
       "      <td>0.0</td>\n",
       "      <td>21.0</td>\n",
       "    </tr>\n",
       "    <tr>\n",
       "      <th>agent</th>\n",
       "      <td>87396.0</td>\n",
       "      <td>82.957858</td>\n",
       "      <td>108.605400</td>\n",
       "      <td>1.00</td>\n",
       "      <td>9.0</td>\n",
       "      <td>14.0</td>\n",
       "      <td>234.0</td>\n",
       "      <td>535.0</td>\n",
       "    </tr>\n",
       "    <tr>\n",
       "      <th>days_in_waiting_list</th>\n",
       "      <td>87396.0</td>\n",
       "      <td>0.749565</td>\n",
       "      <td>10.015731</td>\n",
       "      <td>0.00</td>\n",
       "      <td>0.0</td>\n",
       "      <td>0.0</td>\n",
       "      <td>0.0</td>\n",
       "      <td>391.0</td>\n",
       "    </tr>\n",
       "    <tr>\n",
       "      <th>adr</th>\n",
       "      <td>87396.0</td>\n",
       "      <td>106.337246</td>\n",
       "      <td>55.013953</td>\n",
       "      <td>-6.38</td>\n",
       "      <td>72.0</td>\n",
       "      <td>98.1</td>\n",
       "      <td>134.0</td>\n",
       "      <td>5400.0</td>\n",
       "    </tr>\n",
       "    <tr>\n",
       "      <th>required_car_parking_spaces</th>\n",
       "      <td>87396.0</td>\n",
       "      <td>0.084226</td>\n",
       "      <td>0.281533</td>\n",
       "      <td>0.00</td>\n",
       "      <td>0.0</td>\n",
       "      <td>0.0</td>\n",
       "      <td>0.0</td>\n",
       "      <td>8.0</td>\n",
       "    </tr>\n",
       "    <tr>\n",
       "      <th>total_of_special_requests</th>\n",
       "      <td>87396.0</td>\n",
       "      <td>0.698567</td>\n",
       "      <td>0.831946</td>\n",
       "      <td>0.00</td>\n",
       "      <td>0.0</td>\n",
       "      <td>0.0</td>\n",
       "      <td>1.0</td>\n",
       "      <td>5.0</td>\n",
       "    </tr>\n",
       "  </tbody>\n",
       "</table>\n",
       "</div>"
      ],
      "text/plain": [
       "                                  count         mean         std      min  \\\n",
       "is_canceled                     87396.0     0.274898    0.446466     0.00   \n",
       "lead_time                       87396.0    79.891368   86.052325     0.00   \n",
       "arrival_date_year               87396.0  2016.210296    0.686102  2015.00   \n",
       "arrival_date_week_number        87396.0    26.838334   13.674572     1.00   \n",
       "arrival_date_day_of_month       87396.0    15.815541    8.835146     1.00   \n",
       "stays_in_weekend_nights         87396.0     1.005263    1.031921     0.00   \n",
       "stays_in_week_nights            87396.0     2.625395    2.053584     0.00   \n",
       "adults                          87396.0     1.875795    0.626500     0.00   \n",
       "children                        87396.0     0.138633    0.455871     0.00   \n",
       "babies                          87396.0     0.010824    0.113597     0.00   \n",
       "is_repeated_guest               87396.0     0.039075    0.193775     0.00   \n",
       "previous_cancellations          87396.0     0.030413    0.369145     0.00   \n",
       "previous_bookings_not_canceled  87396.0     0.183990    1.731894     0.00   \n",
       "booking_changes                 87396.0     0.271603    0.727245     0.00   \n",
       "agent                           87396.0    82.957858  108.605400     1.00   \n",
       "days_in_waiting_list            87396.0     0.749565   10.015731     0.00   \n",
       "adr                             87396.0   106.337246   55.013953    -6.38   \n",
       "required_car_parking_spaces     87396.0     0.084226    0.281533     0.00   \n",
       "total_of_special_requests       87396.0     0.698567    0.831946     0.00   \n",
       "\n",
       "                                   25%     50%     75%     max  \n",
       "is_canceled                        0.0     0.0     1.0     1.0  \n",
       "lead_time                         11.0    49.0   125.0   737.0  \n",
       "arrival_date_year               2016.0  2016.0  2017.0  2017.0  \n",
       "arrival_date_week_number          16.0    27.0    37.0    53.0  \n",
       "arrival_date_day_of_month          8.0    16.0    23.0    31.0  \n",
       "stays_in_weekend_nights            0.0     1.0     2.0    19.0  \n",
       "stays_in_week_nights               1.0     2.0     4.0    50.0  \n",
       "adults                             2.0     2.0     2.0    55.0  \n",
       "children                           0.0     0.0     0.0    10.0  \n",
       "babies                             0.0     0.0     0.0    10.0  \n",
       "is_repeated_guest                  0.0     0.0     0.0     1.0  \n",
       "previous_cancellations             0.0     0.0     0.0    26.0  \n",
       "previous_bookings_not_canceled     0.0     0.0     0.0    72.0  \n",
       "booking_changes                    0.0     0.0     0.0    21.0  \n",
       "agent                              9.0    14.0   234.0   535.0  \n",
       "days_in_waiting_list               0.0     0.0     0.0   391.0  \n",
       "adr                               72.0    98.1   134.0  5400.0  \n",
       "required_car_parking_spaces        0.0     0.0     0.0     8.0  \n",
       "total_of_special_requests          0.0     0.0     1.0     5.0  "
      ]
     },
     "execution_count": 15,
     "metadata": {},
     "output_type": "execute_result"
    }
   ],
   "source": [
    "df.describe().T"
   ]
  },
  {
   "cell_type": "markdown",
   "id": "3ce37d3f",
   "metadata": {},
   "source": [
    "    \"The 'adr' and 'lead_time' columns have highly skewed max values, indicating the     presence of outliers. Remove the outliers."
   ]
  },
  {
   "cell_type": "code",
   "execution_count": 16,
   "id": "3e511546",
   "metadata": {
    "ExecuteTime": {
     "end_time": "2024-03-04T18:47:31.259500Z",
     "start_time": "2024-03-04T18:47:30.845926Z"
    },
    "scrolled": true
   },
   "outputs": [
    {
     "data": {
      "image/png": "[encoded data removed]",
      "text/plain": [
       "<Figure size 640x480 with 1 Axes>"
      ]
     },
     "metadata": {},
     "output_type": "display_data"
    },
    {
     "data": {
      "image/png": "[encoded data removed]",
      "text/plain": [
       "<Figure size 640x480 with 1 Axes>"
      ]
     },
     "metadata": {},
     "output_type": "display_data"
    }
   ],
   "source": [
    "for feature in ['adr', 'lead_time']:\n",
    "    df.boxplot(column= feature)\n",
    "    plt.title(feature)\n",
    "    plt.show() "
   ]
  },
  {
   "cell_type": "code",
   "execution_count": 17,
   "id": "18e32fc2",
   "metadata": {
    "ExecuteTime": {
     "end_time": "2024-03-04T18:47:31.304741Z",
     "start_time": "2024-03-04T18:47:31.263675Z"
    }
   },
   "outputs": [],
   "source": [
    "# In the 'adr' column, remove the data points that are greater than 50 or less than 5000\n",
    "\n",
    "df = df[(df['adr'] > 50) & (df['adr'] < 5000)]"
   ]
  },
  {
   "cell_type": "code",
   "execution_count": 18,
   "id": "bddc754e",
   "metadata": {
    "ExecuteTime": {
     "end_time": "2024-03-04T18:47:31.351511Z",
     "start_time": "2024-03-04T18:47:31.306740Z"
    }
   },
   "outputs": [],
   "source": [
    "df = df.drop(df.query('lead_time > 700').index)"
   ]
  },
  {
   "cell_type": "code",
   "execution_count": 19,
   "id": "8cb77151",
   "metadata": {
    "ExecuteTime": {
     "end_time": "2024-03-04T18:47:32.791389Z",
     "start_time": "2024-03-04T18:47:31.352617Z"
    },
    "scrolled": false
   },
   "outputs": [
    {
     "data": {
      "image/png": "[encoded data removed]",
      "text/plain": [
       "<Figure size 5000x2000 with 1 Axes>"
      ]
     },
     "metadata": {},
     "output_type": "display_data"
    }
   ],
   "source": [
    "plt.figure(figsize=(50, 20))\n",
    "sns.boxplot(data = df)\n",
    "plt.show()"
   ]
  },
  {
   "cell_type": "markdown",
   "id": "3036e9c3",
   "metadata": {},
   "source": [
    "# modify the columns"
   ]
  },
  {
   "cell_type": "markdown",
   "id": "cfe9633b",
   "metadata": {
    "ExecuteTime": {
     "end_time": "2024-03-04T16:52:02.439222Z",
     "start_time": "2024-03-04T16:52:02.409333Z"
    }
   },
   "source": [
    " In feature engineering, add a new column that consolidates relevant information into a single      column based on the problem statement."
   ]
  },
  {
   "cell_type": "code",
   "execution_count": 20,
   "id": "e81824a4",
   "metadata": {
    "ExecuteTime": {
     "end_time": "2024-03-04T18:47:32.822077Z",
     "start_time": "2024-03-04T18:47:32.796123Z"
    }
   },
   "outputs": [],
   "source": [
    "# stays_in_week_nights and stays_in_weekend_nights convert to totalStayNights\n",
    "df['totalStayNights'] = df['stays_in_week_nights'] + df['stays_in_weekend_nights']\n",
    "# adults, children, babies convert to total person\n",
    "df['totalPerson'] = df['adults'] + df['children'] + df['babies']"
   ]
  },
  {
   "cell_type": "code",
   "execution_count": 21,
   "id": "124cb093",
   "metadata": {
    "ExecuteTime": {
     "end_time": "2024-03-04T18:47:32.836759Z",
     "start_time": "2024-03-04T18:47:32.824137Z"
    }
   },
   "outputs": [],
   "source": [
    "# I drop these columns as they are all unwanted for the prediction."
   ]
  },
  {
   "cell_type": "code",
   "execution_count": 22,
   "id": "38cf2be3",
   "metadata": {
    "ExecuteTime": {
     "end_time": "2024-03-04T18:47:32.868539Z",
     "start_time": "2024-03-04T18:47:32.838754Z"
    }
   },
   "outputs": [],
   "source": [
    "# drop columns\n",
    "\n",
    "df = df.drop(\n",
    "                [\n",
    "                    \"is_canceled\",\n",
    "                    \"arrival_date_week_number\",\n",
    "                    \"distribution_channel\",\n",
    "                    \"is_repeated_guest\",\n",
    "                    \"previous_cancellations\",\n",
    "                    \"previous_bookings_not_canceled\",\n",
    "                    \"booking_changes\",\n",
    "                    \"agent\",\n",
    "                    \"reservation_status\",\n",
    "                    \"reservation_status_date\",\n",
    "                    \"stays_in_week_nights\",\n",
    "                    \"stays_in_weekend_nights\",\n",
    "                    \"adults\",\"children\",\"babies\",\"country\"\n",
    "                ],axis=1\n",
    "            )"
   ]
  },
  {
   "cell_type": "code",
   "execution_count": 23,
   "id": "e459c01a",
   "metadata": {
    "ExecuteTime": {
     "end_time": "2024-03-04T18:47:32.944143Z",
     "start_time": "2024-03-04T18:47:32.870113Z"
    },
    "scrolled": true
   },
   "outputs": [
    {
     "data": {
      "text/html": [
       "<div>\n",
       "<style scoped>\n",
       "    .dataframe tbody tr th:only-of-type {\n",
       "        vertical-align: middle;\n",
       "    }\n",
       "\n",
       "    .dataframe tbody tr th {\n",
       "        vertical-align: top;\n",
       "    }\n",
       "\n",
       "    .dataframe thead th {\n",
       "        text-align: right;\n",
       "    }\n",
       "</style>\n",
       "<table border=\"1\" class=\"dataframe\">\n",
       "  <thead>\n",
       "    <tr style=\"text-align: right;\">\n",
       "      <th></th>\n",
       "      <th>count</th>\n",
       "      <th>mean</th>\n",
       "      <th>std</th>\n",
       "      <th>min</th>\n",
       "      <th>25%</th>\n",
       "      <th>50%</th>\n",
       "      <th>75%</th>\n",
       "      <th>max</th>\n",
       "    </tr>\n",
       "  </thead>\n",
       "  <tbody>\n",
       "    <tr>\n",
       "      <th>lead_time</th>\n",
       "      <td>77536.0</td>\n",
       "      <td>83.648911</td>\n",
       "      <td>86.180389</td>\n",
       "      <td>0.00</td>\n",
       "      <td>15.0</td>\n",
       "      <td>55.0</td>\n",
       "      <td>130.0</td>\n",
       "      <td>629.0</td>\n",
       "    </tr>\n",
       "    <tr>\n",
       "      <th>arrival_date_year</th>\n",
       "      <td>77536.0</td>\n",
       "      <td>2016.231750</td>\n",
       "      <td>0.680952</td>\n",
       "      <td>2015.00</td>\n",
       "      <td>2016.0</td>\n",
       "      <td>2016.0</td>\n",
       "      <td>2017.0</td>\n",
       "      <td>2017.0</td>\n",
       "    </tr>\n",
       "    <tr>\n",
       "      <th>arrival_date_day_of_month</th>\n",
       "      <td>77536.0</td>\n",
       "      <td>15.843092</td>\n",
       "      <td>8.849198</td>\n",
       "      <td>1.00</td>\n",
       "      <td>8.0</td>\n",
       "      <td>16.0</td>\n",
       "      <td>24.0</td>\n",
       "      <td>31.0</td>\n",
       "    </tr>\n",
       "    <tr>\n",
       "      <th>days_in_waiting_list</th>\n",
       "      <td>77536.0</td>\n",
       "      <td>0.774621</td>\n",
       "      <td>10.251501</td>\n",
       "      <td>0.00</td>\n",
       "      <td>0.0</td>\n",
       "      <td>0.0</td>\n",
       "      <td>0.0</td>\n",
       "      <td>391.0</td>\n",
       "    </tr>\n",
       "    <tr>\n",
       "      <th>adr</th>\n",
       "      <td>77536.0</td>\n",
       "      <td>115.733564</td>\n",
       "      <td>47.114094</td>\n",
       "      <td>50.02</td>\n",
       "      <td>80.1</td>\n",
       "      <td>105.3</td>\n",
       "      <td>139.5</td>\n",
       "      <td>510.0</td>\n",
       "    </tr>\n",
       "    <tr>\n",
       "      <th>required_car_parking_spaces</th>\n",
       "      <td>77536.0</td>\n",
       "      <td>0.083213</td>\n",
       "      <td>0.279132</td>\n",
       "      <td>0.00</td>\n",
       "      <td>0.0</td>\n",
       "      <td>0.0</td>\n",
       "      <td>0.0</td>\n",
       "      <td>8.0</td>\n",
       "    </tr>\n",
       "    <tr>\n",
       "      <th>total_of_special_requests</th>\n",
       "      <td>77536.0</td>\n",
       "      <td>0.723212</td>\n",
       "      <td>0.838172</td>\n",
       "      <td>0.00</td>\n",
       "      <td>0.0</td>\n",
       "      <td>1.0</td>\n",
       "      <td>1.0</td>\n",
       "      <td>5.0</td>\n",
       "    </tr>\n",
       "    <tr>\n",
       "      <th>totalStayNights</th>\n",
       "      <td>77536.0</td>\n",
       "      <td>3.685462</td>\n",
       "      <td>2.634310</td>\n",
       "      <td>1.00</td>\n",
       "      <td>2.0</td>\n",
       "      <td>3.0</td>\n",
       "      <td>5.0</td>\n",
       "      <td>69.0</td>\n",
       "    </tr>\n",
       "    <tr>\n",
       "      <th>totalPerson</th>\n",
       "      <td>77536.0</td>\n",
       "      <td>2.075965</td>\n",
       "      <td>0.700409</td>\n",
       "      <td>0.00</td>\n",
       "      <td>2.0</td>\n",
       "      <td>2.0</td>\n",
       "      <td>2.0</td>\n",
       "      <td>12.0</td>\n",
       "    </tr>\n",
       "  </tbody>\n",
       "</table>\n",
       "</div>"
      ],
      "text/plain": [
       "                               count         mean        std      min     25%  \\\n",
       "lead_time                    77536.0    83.648911  86.180389     0.00    15.0   \n",
       "arrival_date_year            77536.0  2016.231750   0.680952  2015.00  2016.0   \n",
       "arrival_date_day_of_month    77536.0    15.843092   8.849198     1.00     8.0   \n",
       "days_in_waiting_list         77536.0     0.774621  10.251501     0.00     0.0   \n",
       "adr                          77536.0   115.733564  47.114094    50.02    80.1   \n",
       "required_car_parking_spaces  77536.0     0.083213   0.279132     0.00     0.0   \n",
       "total_of_special_requests    77536.0     0.723212   0.838172     0.00     0.0   \n",
       "totalStayNights              77536.0     3.685462   2.634310     1.00     2.0   \n",
       "totalPerson                  77536.0     2.075965   0.700409     0.00     2.0   \n",
       "\n",
       "                                50%     75%     max  \n",
       "lead_time                      55.0   130.0   629.0  \n",
       "arrival_date_year            2016.0  2017.0  2017.0  \n",
       "arrival_date_day_of_month      16.0    24.0    31.0  \n",
       "days_in_waiting_list            0.0     0.0   391.0  \n",
       "adr                           105.3   139.5   510.0  \n",
       "required_car_parking_spaces     0.0     0.0     8.0  \n",
       "total_of_special_requests       1.0     1.0     5.0  \n",
       "totalStayNights                 3.0     5.0    69.0  \n",
       "totalPerson                     2.0     2.0    12.0  "
      ]
     },
     "execution_count": 23,
     "metadata": {},
     "output_type": "execute_result"
    }
   ],
   "source": [
    "df.describe().T "
   ]
  },
  {
   "cell_type": "markdown",
   "id": "783e8bba",
   "metadata": {},
   "source": [
    "# Temporary variables"
   ]
  },
  {
   "cell_type": "code",
   "execution_count": 24,
   "id": "9b80d124",
   "metadata": {
    "ExecuteTime": {
     "end_time": "2024-03-04T18:47:32.959988Z",
     "start_time": "2024-03-04T18:47:32.947136Z"
    }
   },
   "outputs": [],
   "source": [
    "# Temporay variable are date, time, year\n",
    "temporayFeature = [feature for feature in df.columns[df.columns.str.contains('arrival')]]"
   ]
  },
  {
   "cell_type": "code",
   "execution_count": 25,
   "id": "20c24fd3",
   "metadata": {
    "ExecuteTime": {
     "end_time": "2024-03-04T18:47:32.975727Z",
     "start_time": "2024-03-04T18:47:32.963113Z"
    }
   },
   "outputs": [
    {
     "data": {
      "text/plain": [
       "['arrival_date_year', 'arrival_date_month', 'arrival_date_day_of_month']"
      ]
     },
     "execution_count": 25,
     "metadata": {},
     "output_type": "execute_result"
    }
   ],
   "source": [
    "# These columns are all temporary variables\n",
    "temporayFeature"
   ]
  },
  {
   "cell_type": "code",
   "execution_count": 26,
   "id": "86a9aa95",
   "metadata": {
    "ExecuteTime": {
     "end_time": "2024-03-04T18:47:33.948972Z",
     "start_time": "2024-03-04T18:47:32.980002Z"
    },
    "scrolled": true
   },
   "outputs": [
    {
     "data": {
      "image/png": "[encoded data removed]",
      "text/plain": [
       "<Figure size 640x480 with 1 Axes>"
      ]
     },
     "metadata": {},
     "output_type": "display_data"
    },
    {
     "data": {
      "image/png": "[encoded data removed]",
      "text/plain": [
       "<Figure size 640x480 with 1 Axes>"
      ]
     },
     "metadata": {},
     "output_type": "display_data"
    },
    {
     "data": {
      "image/png": "[encoded data removed]",
      "text/plain": [
       "<Figure size 640x480 with 1 Axes>"
      ]
     },
     "metadata": {},
     "output_type": "display_data"
    }
   ],
   "source": [
    "# cross check with the adr colums to see the difference\n",
    "for feature in temporayFeature:\n",
    "    df.groupby(df[feature])['adr'].mean().plot.bar()\n",
    "    plt.xlabel(feature)\n",
    "    plt.ylabel('adr')\n",
    "    plt.show()"
   ]
  },
  {
   "cell_type": "markdown",
   "id": "3f41b8d4",
   "metadata": {
    "ExecuteTime": {
     "end_time": "2024-03-01T17:52:42.089988Z",
     "start_time": "2024-03-01T17:52:41.846086Z"
    }
   },
   "source": [
    "# Categorical "
   ]
  },
  {
   "cell_type": "code",
   "execution_count": 27,
   "id": "832e8919",
   "metadata": {
    "ExecuteTime": {
     "end_time": "2024-03-04T18:47:33.965360Z",
     "start_time": "2024-03-04T18:47:33.952996Z"
    }
   },
   "outputs": [],
   "source": [
    "# Detect all the categorical features\n",
    "categoricalFeature = [feature for feature in df.columns if df[feature].dtype == 'O']"
   ]
  },
  {
   "cell_type": "code",
   "execution_count": 28,
   "id": "7c01880c",
   "metadata": {
    "ExecuteTime": {
     "end_time": "2024-03-04T18:47:34.012827Z",
     "start_time": "2024-03-04T18:47:33.974152Z"
    }
   },
   "outputs": [
    {
     "data": {
      "text/html": [
       "<div>\n",
       "<style scoped>\n",
       "    .dataframe tbody tr th:only-of-type {\n",
       "        vertical-align: middle;\n",
       "    }\n",
       "\n",
       "    .dataframe tbody tr th {\n",
       "        vertical-align: top;\n",
       "    }\n",
       "\n",
       "    .dataframe thead th {\n",
       "        text-align: right;\n",
       "    }\n",
       "</style>\n",
       "<table border=\"1\" class=\"dataframe\">\n",
       "  <thead>\n",
       "    <tr style=\"text-align: right;\">\n",
       "      <th></th>\n",
       "      <th>hotel</th>\n",
       "      <th>arrival_date_month</th>\n",
       "      <th>meal</th>\n",
       "      <th>market_segment</th>\n",
       "      <th>reserved_room_type</th>\n",
       "      <th>assigned_room_type</th>\n",
       "      <th>deposit_type</th>\n",
       "      <th>customer_type</th>\n",
       "    </tr>\n",
       "  </thead>\n",
       "  <tbody>\n",
       "    <tr>\n",
       "      <th>2</th>\n",
       "      <td>Resort Hotel</td>\n",
       "      <td>July</td>\n",
       "      <td>BB</td>\n",
       "      <td>Direct</td>\n",
       "      <td>A</td>\n",
       "      <td>C</td>\n",
       "      <td>No Deposit</td>\n",
       "      <td>Transient</td>\n",
       "    </tr>\n",
       "    <tr>\n",
       "      <th>3</th>\n",
       "      <td>Resort Hotel</td>\n",
       "      <td>July</td>\n",
       "      <td>BB</td>\n",
       "      <td>Corporate</td>\n",
       "      <td>A</td>\n",
       "      <td>A</td>\n",
       "      <td>No Deposit</td>\n",
       "      <td>Transient</td>\n",
       "    </tr>\n",
       "    <tr>\n",
       "      <th>4</th>\n",
       "      <td>Resort Hotel</td>\n",
       "      <td>July</td>\n",
       "      <td>BB</td>\n",
       "      <td>Online TA</td>\n",
       "      <td>A</td>\n",
       "      <td>A</td>\n",
       "      <td>No Deposit</td>\n",
       "      <td>Transient</td>\n",
       "    </tr>\n",
       "    <tr>\n",
       "      <th>6</th>\n",
       "      <td>Resort Hotel</td>\n",
       "      <td>July</td>\n",
       "      <td>BB</td>\n",
       "      <td>Direct</td>\n",
       "      <td>C</td>\n",
       "      <td>C</td>\n",
       "      <td>No Deposit</td>\n",
       "      <td>Transient</td>\n",
       "    </tr>\n",
       "    <tr>\n",
       "      <th>7</th>\n",
       "      <td>Resort Hotel</td>\n",
       "      <td>July</td>\n",
       "      <td>FB</td>\n",
       "      <td>Direct</td>\n",
       "      <td>C</td>\n",
       "      <td>C</td>\n",
       "      <td>No Deposit</td>\n",
       "      <td>Transient</td>\n",
       "    </tr>\n",
       "  </tbody>\n",
       "</table>\n",
       "</div>"
      ],
      "text/plain": [
       "          hotel arrival_date_month meal market_segment reserved_room_type  \\\n",
       "2  Resort Hotel               July   BB         Direct                  A   \n",
       "3  Resort Hotel               July   BB      Corporate                  A   \n",
       "4  Resort Hotel               July   BB      Online TA                  A   \n",
       "6  Resort Hotel               July   BB         Direct                  C   \n",
       "7  Resort Hotel               July   FB         Direct                  C   \n",
       "\n",
       "  assigned_room_type deposit_type customer_type  \n",
       "2                  C   No Deposit     Transient  \n",
       "3                  A   No Deposit     Transient  \n",
       "4                  A   No Deposit     Transient  \n",
       "6                  C   No Deposit     Transient  \n",
       "7                  C   No Deposit     Transient  "
      ]
     },
     "execution_count": 28,
     "metadata": {},
     "output_type": "execute_result"
    }
   ],
   "source": [
    "df[categoricalFeature].head()"
   ]
  },
  {
   "cell_type": "code",
   "execution_count": 29,
   "id": "02f454d3",
   "metadata": {
    "ExecuteTime": {
     "end_time": "2024-03-04T18:47:34.028108Z",
     "start_time": "2024-03-04T18:47:34.015821Z"
    }
   },
   "outputs": [],
   "source": [
    "# Assign the LabelEncoder to convert categorical data to numerical values.\n",
    "lableEncoder = LabelEncoder()"
   ]
  },
  {
   "cell_type": "code",
   "execution_count": 30,
   "id": "9537c9a7",
   "metadata": {
    "ExecuteTime": {
     "end_time": "2024-03-04T18:47:34.289801Z",
     "start_time": "2024-03-04T18:47:34.030690Z"
    }
   },
   "outputs": [],
   "source": [
    "df['hotel'] = lableEncoder.fit_transform(df['hotel'])\n",
    "df['arrival_date_month'] = lableEncoder.fit_transform(df['arrival_date_month'])\n",
    "df['meal'] = lableEncoder.fit_transform(df['meal'])\n",
    "df['market_segment'] = lableEncoder.fit_transform(df['market_segment'])\n",
    "df['reserved_room_type'] = lableEncoder.fit_transform(df['reserved_room_type'])\n",
    "df['assigned_room_type'] = lableEncoder.fit_transform(df['assigned_room_type'])\n",
    "df['deposit_type'] = lableEncoder.fit_transform(df['deposit_type'])\n",
    "df['customer_type'] = lableEncoder.fit_transform(df['customer_type'])"
   ]
  },
  {
   "cell_type": "code",
   "execution_count": 31,
   "id": "2326eada",
   "metadata": {
    "ExecuteTime": {
     "end_time": "2024-03-04T18:47:34.336061Z",
     "start_time": "2024-03-04T18:47:34.294825Z"
    }
   },
   "outputs": [
    {
     "data": {
      "text/html": [
       "<div>\n",
       "<style scoped>\n",
       "    .dataframe tbody tr th:only-of-type {\n",
       "        vertical-align: middle;\n",
       "    }\n",
       "\n",
       "    .dataframe tbody tr th {\n",
       "        vertical-align: top;\n",
       "    }\n",
       "\n",
       "    .dataframe thead th {\n",
       "        text-align: right;\n",
       "    }\n",
       "</style>\n",
       "<table border=\"1\" class=\"dataframe\">\n",
       "  <thead>\n",
       "    <tr style=\"text-align: right;\">\n",
       "      <th></th>\n",
       "      <th>hotel</th>\n",
       "      <th>lead_time</th>\n",
       "      <th>arrival_date_year</th>\n",
       "      <th>arrival_date_month</th>\n",
       "      <th>arrival_date_day_of_month</th>\n",
       "      <th>meal</th>\n",
       "      <th>market_segment</th>\n",
       "      <th>reserved_room_type</th>\n",
       "      <th>assigned_room_type</th>\n",
       "      <th>deposit_type</th>\n",
       "      <th>days_in_waiting_list</th>\n",
       "      <th>customer_type</th>\n",
       "      <th>adr</th>\n",
       "      <th>required_car_parking_spaces</th>\n",
       "      <th>total_of_special_requests</th>\n",
       "      <th>totalStayNights</th>\n",
       "      <th>totalPerson</th>\n",
       "    </tr>\n",
       "  </thead>\n",
       "  <tbody>\n",
       "    <tr>\n",
       "      <th>2</th>\n",
       "      <td>1</td>\n",
       "      <td>7</td>\n",
       "      <td>2015</td>\n",
       "      <td>5</td>\n",
       "      <td>1</td>\n",
       "      <td>0</td>\n",
       "      <td>3</td>\n",
       "      <td>0</td>\n",
       "      <td>2</td>\n",
       "      <td>0</td>\n",
       "      <td>0</td>\n",
       "      <td>2</td>\n",
       "      <td>75.0</td>\n",
       "      <td>0</td>\n",
       "      <td>0</td>\n",
       "      <td>1</td>\n",
       "      <td>1.0</td>\n",
       "    </tr>\n",
       "    <tr>\n",
       "      <th>3</th>\n",
       "      <td>1</td>\n",
       "      <td>13</td>\n",
       "      <td>2015</td>\n",
       "      <td>5</td>\n",
       "      <td>1</td>\n",
       "      <td>0</td>\n",
       "      <td>2</td>\n",
       "      <td>0</td>\n",
       "      <td>0</td>\n",
       "      <td>0</td>\n",
       "      <td>0</td>\n",
       "      <td>2</td>\n",
       "      <td>75.0</td>\n",
       "      <td>0</td>\n",
       "      <td>0</td>\n",
       "      <td>1</td>\n",
       "      <td>1.0</td>\n",
       "    </tr>\n",
       "    <tr>\n",
       "      <th>4</th>\n",
       "      <td>1</td>\n",
       "      <td>14</td>\n",
       "      <td>2015</td>\n",
       "      <td>5</td>\n",
       "      <td>1</td>\n",
       "      <td>0</td>\n",
       "      <td>6</td>\n",
       "      <td>0</td>\n",
       "      <td>0</td>\n",
       "      <td>0</td>\n",
       "      <td>0</td>\n",
       "      <td>2</td>\n",
       "      <td>98.0</td>\n",
       "      <td>0</td>\n",
       "      <td>1</td>\n",
       "      <td>2</td>\n",
       "      <td>2.0</td>\n",
       "    </tr>\n",
       "    <tr>\n",
       "      <th>6</th>\n",
       "      <td>1</td>\n",
       "      <td>0</td>\n",
       "      <td>2015</td>\n",
       "      <td>5</td>\n",
       "      <td>1</td>\n",
       "      <td>0</td>\n",
       "      <td>3</td>\n",
       "      <td>2</td>\n",
       "      <td>2</td>\n",
       "      <td>0</td>\n",
       "      <td>0</td>\n",
       "      <td>2</td>\n",
       "      <td>107.0</td>\n",
       "      <td>0</td>\n",
       "      <td>0</td>\n",
       "      <td>2</td>\n",
       "      <td>2.0</td>\n",
       "    </tr>\n",
       "    <tr>\n",
       "      <th>7</th>\n",
       "      <td>1</td>\n",
       "      <td>9</td>\n",
       "      <td>2015</td>\n",
       "      <td>5</td>\n",
       "      <td>1</td>\n",
       "      <td>1</td>\n",
       "      <td>3</td>\n",
       "      <td>2</td>\n",
       "      <td>2</td>\n",
       "      <td>0</td>\n",
       "      <td>0</td>\n",
       "      <td>2</td>\n",
       "      <td>103.0</td>\n",
       "      <td>0</td>\n",
       "      <td>1</td>\n",
       "      <td>2</td>\n",
       "      <td>2.0</td>\n",
       "    </tr>\n",
       "  </tbody>\n",
       "</table>\n",
       "</div>"
      ],
      "text/plain": [
       "   hotel  lead_time  arrival_date_year  arrival_date_month  \\\n",
       "2      1          7               2015                   5   \n",
       "3      1         13               2015                   5   \n",
       "4      1         14               2015                   5   \n",
       "6      1          0               2015                   5   \n",
       "7      1          9               2015                   5   \n",
       "\n",
       "   arrival_date_day_of_month  meal  market_segment  reserved_room_type  \\\n",
       "2                          1     0               3                   0   \n",
       "3                          1     0               2                   0   \n",
       "4                          1     0               6                   0   \n",
       "6                          1     0               3                   2   \n",
       "7                          1     1               3                   2   \n",
       "\n",
       "   assigned_room_type  deposit_type  days_in_waiting_list  customer_type  \\\n",
       "2                   2             0                     0              2   \n",
       "3                   0             0                     0              2   \n",
       "4                   0             0                     0              2   \n",
       "6                   2             0                     0              2   \n",
       "7                   2             0                     0              2   \n",
       "\n",
       "     adr  required_car_parking_spaces  total_of_special_requests  \\\n",
       "2   75.0                            0                          0   \n",
       "3   75.0                            0                          0   \n",
       "4   98.0                            0                          1   \n",
       "6  107.0                            0                          0   \n",
       "7  103.0                            0                          1   \n",
       "\n",
       "   totalStayNights  totalPerson  \n",
       "2                1          1.0  \n",
       "3                1          1.0  \n",
       "4                2          2.0  \n",
       "6                2          2.0  \n",
       "7                2          2.0  "
      ]
     },
     "execution_count": 31,
     "metadata": {},
     "output_type": "execute_result"
    }
   ],
   "source": [
    "df.head()"
   ]
  },
  {
   "cell_type": "code",
   "execution_count": 32,
   "id": "4486a834",
   "metadata": {
    "ExecuteTime": {
     "end_time": "2024-03-04T18:47:34.414572Z",
     "start_time": "2024-03-04T18:47:34.342581Z"
    }
   },
   "outputs": [
    {
     "data": {
      "text/plain": [
       "(3394, 17)"
      ]
     },
     "execution_count": 32,
     "metadata": {},
     "output_type": "execute_result"
    }
   ],
   "source": [
    "# recheck the dublicate values is present or not\n",
    "df[df.duplicated()].shape"
   ]
  },
  {
   "cell_type": "code",
   "execution_count": 33,
   "id": "05656d3c",
   "metadata": {
    "ExecuteTime": {
     "end_time": "2024-03-04T18:47:34.508559Z",
     "start_time": "2024-03-04T18:47:34.418564Z"
    }
   },
   "outputs": [],
   "source": [
    "# remove the dublicate values\n",
    "df.drop_duplicates(inplace=True)"
   ]
  },
  {
   "cell_type": "code",
   "execution_count": 34,
   "id": "d0abaad6",
   "metadata": {
    "ExecuteTime": {
     "end_time": "2024-03-04T18:47:34.539472Z",
     "start_time": "2024-03-04T18:47:34.512549Z"
    }
   },
   "outputs": [],
   "source": [
    "# reset the index and drop\n",
    "df = df.reset_index()\n",
    "df.drop(columns='index', inplace=True)"
   ]
  },
  {
   "cell_type": "code",
   "execution_count": 35,
   "id": "a4b259b1",
   "metadata": {
    "ExecuteTime": {
     "end_time": "2024-03-04T18:47:34.586238Z",
     "start_time": "2024-03-04T18:47:34.545161Z"
    }
   },
   "outputs": [
    {
     "data": {
      "text/html": [
       "<div>\n",
       "<style scoped>\n",
       "    .dataframe tbody tr th:only-of-type {\n",
       "        vertical-align: middle;\n",
       "    }\n",
       "\n",
       "    .dataframe tbody tr th {\n",
       "        vertical-align: top;\n",
       "    }\n",
       "\n",
       "    .dataframe thead th {\n",
       "        text-align: right;\n",
       "    }\n",
       "</style>\n",
       "<table border=\"1\" class=\"dataframe\">\n",
       "  <thead>\n",
       "    <tr style=\"text-align: right;\">\n",
       "      <th></th>\n",
       "      <th>hotel</th>\n",
       "      <th>lead_time</th>\n",
       "      <th>arrival_date_year</th>\n",
       "      <th>arrival_date_month</th>\n",
       "      <th>arrival_date_day_of_month</th>\n",
       "      <th>meal</th>\n",
       "      <th>market_segment</th>\n",
       "      <th>reserved_room_type</th>\n",
       "      <th>assigned_room_type</th>\n",
       "      <th>deposit_type</th>\n",
       "      <th>days_in_waiting_list</th>\n",
       "      <th>customer_type</th>\n",
       "      <th>adr</th>\n",
       "      <th>required_car_parking_spaces</th>\n",
       "      <th>total_of_special_requests</th>\n",
       "      <th>totalStayNights</th>\n",
       "      <th>totalPerson</th>\n",
       "    </tr>\n",
       "  </thead>\n",
       "  <tbody>\n",
       "    <tr>\n",
       "      <th>0</th>\n",
       "      <td>1</td>\n",
       "      <td>7</td>\n",
       "      <td>2015</td>\n",
       "      <td>5</td>\n",
       "      <td>1</td>\n",
       "      <td>0</td>\n",
       "      <td>3</td>\n",
       "      <td>0</td>\n",
       "      <td>2</td>\n",
       "      <td>0</td>\n",
       "      <td>0</td>\n",
       "      <td>2</td>\n",
       "      <td>75.0</td>\n",
       "      <td>0</td>\n",
       "      <td>0</td>\n",
       "      <td>1</td>\n",
       "      <td>1.0</td>\n",
       "    </tr>\n",
       "    <tr>\n",
       "      <th>1</th>\n",
       "      <td>1</td>\n",
       "      <td>13</td>\n",
       "      <td>2015</td>\n",
       "      <td>5</td>\n",
       "      <td>1</td>\n",
       "      <td>0</td>\n",
       "      <td>2</td>\n",
       "      <td>0</td>\n",
       "      <td>0</td>\n",
       "      <td>0</td>\n",
       "      <td>0</td>\n",
       "      <td>2</td>\n",
       "      <td>75.0</td>\n",
       "      <td>0</td>\n",
       "      <td>0</td>\n",
       "      <td>1</td>\n",
       "      <td>1.0</td>\n",
       "    </tr>\n",
       "    <tr>\n",
       "      <th>2</th>\n",
       "      <td>1</td>\n",
       "      <td>14</td>\n",
       "      <td>2015</td>\n",
       "      <td>5</td>\n",
       "      <td>1</td>\n",
       "      <td>0</td>\n",
       "      <td>6</td>\n",
       "      <td>0</td>\n",
       "      <td>0</td>\n",
       "      <td>0</td>\n",
       "      <td>0</td>\n",
       "      <td>2</td>\n",
       "      <td>98.0</td>\n",
       "      <td>0</td>\n",
       "      <td>1</td>\n",
       "      <td>2</td>\n",
       "      <td>2.0</td>\n",
       "    </tr>\n",
       "    <tr>\n",
       "      <th>3</th>\n",
       "      <td>1</td>\n",
       "      <td>0</td>\n",
       "      <td>2015</td>\n",
       "      <td>5</td>\n",
       "      <td>1</td>\n",
       "      <td>0</td>\n",
       "      <td>3</td>\n",
       "      <td>2</td>\n",
       "      <td>2</td>\n",
       "      <td>0</td>\n",
       "      <td>0</td>\n",
       "      <td>2</td>\n",
       "      <td>107.0</td>\n",
       "      <td>0</td>\n",
       "      <td>0</td>\n",
       "      <td>2</td>\n",
       "      <td>2.0</td>\n",
       "    </tr>\n",
       "    <tr>\n",
       "      <th>4</th>\n",
       "      <td>1</td>\n",
       "      <td>9</td>\n",
       "      <td>2015</td>\n",
       "      <td>5</td>\n",
       "      <td>1</td>\n",
       "      <td>1</td>\n",
       "      <td>3</td>\n",
       "      <td>2</td>\n",
       "      <td>2</td>\n",
       "      <td>0</td>\n",
       "      <td>0</td>\n",
       "      <td>2</td>\n",
       "      <td>103.0</td>\n",
       "      <td>0</td>\n",
       "      <td>1</td>\n",
       "      <td>2</td>\n",
       "      <td>2.0</td>\n",
       "    </tr>\n",
       "  </tbody>\n",
       "</table>\n",
       "</div>"
      ],
      "text/plain": [
       "   hotel  lead_time  arrival_date_year  arrival_date_month  \\\n",
       "0      1          7               2015                   5   \n",
       "1      1         13               2015                   5   \n",
       "2      1         14               2015                   5   \n",
       "3      1          0               2015                   5   \n",
       "4      1          9               2015                   5   \n",
       "\n",
       "   arrival_date_day_of_month  meal  market_segment  reserved_room_type  \\\n",
       "0                          1     0               3                   0   \n",
       "1                          1     0               2                   0   \n",
       "2                          1     0               6                   0   \n",
       "3                          1     0               3                   2   \n",
       "4                          1     1               3                   2   \n",
       "\n",
       "   assigned_room_type  deposit_type  days_in_waiting_list  customer_type  \\\n",
       "0                   2             0                     0              2   \n",
       "1                   0             0                     0              2   \n",
       "2                   0             0                     0              2   \n",
       "3                   2             0                     0              2   \n",
       "4                   2             0                     0              2   \n",
       "\n",
       "     adr  required_car_parking_spaces  total_of_special_requests  \\\n",
       "0   75.0                            0                          0   \n",
       "1   75.0                            0                          0   \n",
       "2   98.0                            0                          1   \n",
       "3  107.0                            0                          0   \n",
       "4  103.0                            0                          1   \n",
       "\n",
       "   totalStayNights  totalPerson  \n",
       "0                1          1.0  \n",
       "1                1          1.0  \n",
       "2                2          2.0  \n",
       "3                2          2.0  \n",
       "4                2          2.0  "
      ]
     },
     "execution_count": 35,
     "metadata": {},
     "output_type": "execute_result"
    }
   ],
   "source": [
    "df.head()"
   ]
  },
  {
   "cell_type": "code",
   "execution_count": 36,
   "id": "b809891d",
   "metadata": {
    "ExecuteTime": {
     "end_time": "2024-03-04T18:47:40.592266Z",
     "start_time": "2024-03-04T18:47:34.590621Z"
    }
   },
   "outputs": [
    {
     "data": {
      "image/png": "[encoded data removed]",
      "text/plain": [
       "<Figure size 2000x1500 with 20 Axes>"
      ]
     },
     "metadata": {},
     "output_type": "display_data"
    }
   ],
   "source": [
    "# Visualize all the columns at once.\n",
    "plt.style.use('seaborn')\n",
    "df.hist(bins=50,figsize=(20,15))\n",
    "plt.show()"
   ]
  },
  {
   "cell_type": "code",
   "execution_count": 37,
   "id": "b19446d5",
   "metadata": {
    "ExecuteTime": {
     "end_time": "2024-03-04T18:47:41.244597Z",
     "start_time": "2024-03-04T18:47:40.594260Z"
    }
   },
   "outputs": [],
   "source": [
    "#  Finally, save the data to a CSV file.\n",
    "df.to_csv('hotelPriceCleaned.csv',index=False)"
   ]
  },
  {
   "cell_type": "code",
   "execution_count": null,
   "id": "c49c232d",
   "metadata": {
    "ExecuteTime": {
     "end_time": "2024-03-04T19:28:15.927524Z",
     "start_time": "2024-03-04T19:28:14.867627Z"
    }
   },
   "outputs": [],
   "source": []
  },
  {
   "cell_type": "code",
   "execution_count": null,
   "id": "bcd3904c",
   "metadata": {
    "ExecuteTime": {
     "end_time": "2024-03-04T18:16:07.015556Z",
     "start_time": "2024-03-04T18:16:06.966194Z"
    }
   },
   "outputs": [],
   "source": []
  },
  {
   "cell_type": "code",
   "execution_count": null,
   "id": "181c9ed1",
   "metadata": {},
   "outputs": [],
   "source": []
  }
 ],
 "metadata": {
  "hide_input": false,
  "kernelspec": {
   "display_name": "Python 3 (ipykernel)",
   "language": "python",
   "name": "python3"
  },
  "language_info": {
   "codemirror_mode": {
    "name": "ipython",
    "version": 3
   },
   "file_extension": ".py",
   "mimetype": "text/x-python",
   "name": "python",
   "nbconvert_exporter": "python",
   "pygments_lexer": "ipython3",
   "version": "3.7.6"
  },
  "toc": {
   "base_numbering": 1,
   "nav_menu": {},
   "number_sections": true,
   "sideBar": true,
   "skip_h1_title": false,
   "title_cell": "Table of Contents",
   "title_sidebar": "Contents",
   "toc_cell": false,
   "toc_position": {},
   "toc_section_display": true,
   "toc_window_display": false
  }
 },
 "nbformat": 4,
 "nbformat_minor": 5
}
